{
  "nbformat": 4,
  "nbformat_minor": 0,
  "metadata": {
    "colab": {
      "provenance": [],
      "include_colab_link": true
    },
    "kernelspec": {
      "name": "python3",
      "display_name": "Python 3"
    },
    "language_info": {
      "name": "python"
    }
  },
  "cells": [
    {
      "cell_type": "markdown",
      "metadata": {
        "id": "view-in-github",
        "colab_type": "text"
      },
      "source": [
        "<a href=\"https://colab.research.google.com/github/kolchenkoav/Webinar14052024/blob/main/%D0%92%D0%B5%D0%B1%D0%B8%D0%BD%D0%B0%D1%80_14_%D0%BC%D0%B0%D1%8F_%D0%9E%D1%81%D0%BD%D0%BE%D0%B2%D1%8B_Python_%D0%BE%D1%82_GPT_4_%D0%94%D0%B5%D0%BD%D1%8C_1.ipynb\" target=\"_parent\"><img src=\"https://colab.research.google.com/assets/colab-badge.svg\" alt=\"Open In Colab\"/></a>"
      ]
    },
    {
      "cell_type": "markdown",
      "source": [
        "# **Занятие Python на ChatGPT. День 1**"
      ],
      "metadata": {
        "id": "atWwJT-klwUk"
      }
    },
    {
      "cell_type": "code",
      "source": [
        "import json\n",
        "from datetime import datetime\n",
        "import requests\n",
        "import re\n",
        "import os\n",
        "import getpass\n",
        "import numpy as np\n",
        "\n",
        "#@title Установка библиотек для нейро-куратора\n",
        "\n",
        "os.environ[\"UII_API_KEY\"] = \"k0lqY9sWau3bT9Ll1vEP4vFLX2uPKP3a\"\n",
        "user_id_seed = np.random.randint(90000000001, 90000000100)"
      ],
      "metadata": {
        "cellView": "form",
        "id": "2PQyNjmze5vz"
      },
      "execution_count": null,
      "outputs": []
    },
    {
      "cell_type": "markdown",
      "source": [
        "# **1. Введение в Python**"
      ],
      "metadata": {
        "id": "C0-wTsdR39l8"
      }
    },
    {
      "cell_type": "markdown",
      "source": [
        "## **Краткая история и преимущества языка**"
      ],
      "metadata": {
        "id": "iJdjVsC24BZV"
      }
    },
    {
      "cell_type": "markdown",
      "source": [
        "### История"
      ],
      "metadata": {
        "id": "WTW-rY5z4ExD"
      }
    },
    {
      "cell_type": "markdown",
      "source": [
        "Python был создан Гвидо ван Россумом в конце 1980-х годов и впервые выпущен в 1991 году. Название языка было вдохновлено британским комедийным шоу \"Monty Python's Flying Circus\". Python изначально разрабатывался как язык с простым и интуитивно понятным синтаксисом, что сделало его легким в освоении для начинающих и мощным инструментом для профессионалов."
      ],
      "metadata": {
        "id": "FAjy_ObB4Ios"
      }
    },
    {
      "cell_type": "markdown",
      "source": [
        "### Преимущества Python"
      ],
      "metadata": {
        "id": "wSyMcbzr4PxE"
      }
    },
    {
      "cell_type": "markdown",
      "source": [
        "1. **Простота и читаемость кода**:\n",
        "   - Python ориентирован на чистый, понятный и легко читаемый код.\n",
        "   - Это делает его идеальным языком для тех, кто только начинает изучать программирование.\n",
        "   - Благодаря простому синтаксису код становится интуитивно понятным даже без глубоких знаний в программировании.\n",
        "\n",
        "2. **Богатая стандартная библиотека**:\n",
        "   - Стандартная библиотека Python включает большое количество готовых инструментов, которые называются модулями и пакетами.\n",
        "   - Они позволяют решать множество задач без необходимости писать сложный код с нуля.\n",
        "   - К примеру, библиотека `math` предоставляет математические функции, a  `matplotlib` предоставляет инструменты для построения графиков и визуализации данных.\n",
        "\n",
        "3. **Сообщество и экосистема**:\n",
        "   - Python имеет активное и дружелюбное сообщество разработчиков по всему миру.\n",
        "   - Существует огромная экосистема библиотек и инструментов для веб-разработки, анализа данных, машинного обучения, автоматизации и многих других сфер.\n",
        "   - Многие библиотеки создаются и поддерживаются этим сообществом, что обеспечивает их актуальность и качество.\n",
        "\n",
        "4. **Кросс-платформенность**:\n",
        "   - Python работает на всех основных операционных системах: Windows, macOS и Linux.\n",
        "   - Это означает, что вы можете разрабатывать программу на одной системе, а запускать на другой без изменений в коде.\n",
        "   - Также Python совместим с популярными облачными платформами, что делает его удобным инструментом для проектов, которые работают на серверах.\n",
        "\n",
        "5. **Интерактивная среда**:\n",
        "   - Python предоставляет интерактивную среду, где можно вводить команды и сразу видеть результат их выполнения.\n",
        "   - Интерпретатор Python позволяет выполнять команды по одной, проверять работу кода в процессе.\n",
        "   - Инструменты, такие как Jupyter Notebook и Google Colab, позволяют комбинировать текст с программным кодом, создавая подробные учебные материалы или исследовательские отчеты.\n"
      ],
      "metadata": {
        "id": "2ngwjFtc4WKM"
      }
    },
    {
      "cell_type": "markdown",
      "source": [
        "## **Области применения Python, инструменты для программирования**"
      ],
      "metadata": {
        "id": "Fz1hRan26SVM"
      }
    },
    {
      "cell_type": "markdown",
      "source": [
        "### Области применения Python"
      ],
      "metadata": {
        "id": "_o2sGwRJ6Vv3"
      }
    },
    {
      "cell_type": "markdown",
      "source": [
        "1. **Веб-разработка**:\n",
        "   - Python часто используется для создания веб-сайтов и веб-приложений.\n",
        "   - Для этого применяются **фреймворки** — наборы инструментов, упрощающих процесс разработки.\n",
        "   - Примеры фреймворков: Django и Flask.\n",
        "    - **Django**: полнофункциональный фреймворк для создания сложных веб-приложений с аутентификацией, маршрутизацией, формами и базой данных.\n",
        "    - **Flask**: более легковесный фреймворк, подходящий для небольших веб-приложений и позволяющий разработчикам добавлять только необходимые компоненты.\n",
        "\n",
        "\n",
        "2. **Анализ данных и машинное обучение**:\n",
        "   - Python популярен среди специалистов по анализу данных и искусственному интеллекту благодаря таким библиотекам, как NumPy, pandas, TensorFlow и PyTorch.\n",
        "   - Python популярен среди специалистов по анализу данных и искусственному интеллекту благодаря таким библиотекам, как:\n",
        "     - **NumPy**: предоставляет возможности работы с массивами и векторами, а также быстрые математические операции.\n",
        "     - **pandas**: инструменты для анализа и обработки табличных данных, включая поддержку временных рядов и группировку данных.\n",
        "     - **TensorFlow**: фреймворк для создания и обучения моделей машинного обучения, особенно в области глубокого обучения.\n",
        "     - **PyTorch**: еще один фреймворк для создания моделей глубокого обучения, который отличается гибкостью и возможностью использования динамических вычислительных графов.\n",
        "   - Они помогают обрабатывать большие объемы данных и строить модели машинного обучения для прогнозирования и классификации.\n",
        "\n",
        "3. **Автоматизация**:\n",
        "   - Python отлично подходит для автоматизации рутинных задач, таких как сбор данных с веб-сайтов (так называемый **парсинг**), автоматическое тестирование программ и управление операционной системой.\n",
        "   - Например, с его помощью можно автоматически скачивать отчеты или проверять тысячи страниц на обновления.\n",
        "\n",
        "4. **Наука и исследования**:\n",
        "   - Python помогает ученым анализировать данные и визуализировать результаты, используя библиотеки Matplotlib и SciPy для построения графиков и сложных вычислений.\n",
        "\n",
        "5. **Игровая индустрия**:\n",
        "   - Разработчики игр могут использовать Python для создания игр, используя инструменты вроде Pygame и Panda3D, которые предоставляют функции для рисования графики и работы с физикой объектов.\n",
        "  - Известные игры, созданные с использованием Python:\n",
        "    - **Civilization IV**: стратегическая игра, где Python использовался для искусственного интеллекта и скриптов.\n",
        "    - **EVE Online**: многопользовательская онлайн-игра, использующая Python для серверной логики.\n",
        "    - **Battlefield 2**: шутер от первого лица, где Python применялся для настройки игры и управления.\n"
      ],
      "metadata": {
        "id": "0DCD9elT6ZtV"
      }
    },
    {
      "cell_type": "markdown",
      "source": [
        "### Инструменты для программирования"
      ],
      "metadata": {
        "id": "ExUnCpJ76sD8"
      }
    },
    {
      "cell_type": "markdown",
      "source": [
        "1. **Интерпретатор Python**:\n",
        "   - Чтобы запустить программы, нужно установить интерпретатор Python с официального сайта (https://www.python.org/).\n",
        "   - Он позволяет вводить и тестировать код прямо в командной строке, а также запускать готовые скрипты.\n",
        "\n",
        "2. **Редакторы кода**:\n",
        "   - Чтобы писать код, используют программы, называемые редакторами кода или интегрированными средами разработки (IDE).\n",
        "   - Примеры редакторов: PyCharm, VSCode, Jupyter Notebook, а также онлайн-среды, такие как Google Colab.\n",
        "\n",
        "3. **Менеджер пакетов pip**:\n",
        "   - **pip** — это инструмент для установки дополнительных библиотек и пакетов в Python.\n",
        "   - Используя команды вроде `pip install`, можно быстро скачать и установить тысячи полезных инструментов из интернета.\n",
        "\n",
        "4. **Виртуальные окружения**:\n",
        "   - Виртуальные окружения позволяют создать отдельное место для хранения всех необходимых библиотек и пакетов.\n",
        "   - Это полезно для разных проектов, когда вам нужно использовать разные версии инструментов или изолировать зависимости проекта.\n",
        "   - Инструменты virtualenv и venv создают эти изолированные среды для каждого проекта.\n"
      ],
      "metadata": {
        "id": "3nFF9U7M7Av0"
      }
    },
    {
      "cell_type": "markdown",
      "source": [
        "## **Практическое задание: Установка и запуск первой программы \"Hello, World!\" в Google Colab**"
      ],
      "metadata": {
        "id": "IxpCFiAzACS8"
      }
    },
    {
      "cell_type": "markdown",
      "source": [
        "### Инструкция по установке Google Colab"
      ],
      "metadata": {
        "id": "g834GVSkAE8L"
      }
    },
    {
      "cell_type": "markdown",
      "source": [
        "1. **Подключение к Google**:\n",
        "   - Убедитесь, что у вас есть аккаунт Google.\n",
        "   - Зайдите на https://colab.research.google.com/.\n",
        "\n",
        "2. **Создание нового ноутбука**:\n",
        "   - После входа в Google Colab, нажмите кнопку \"Файл\" → \"Новый блокнот\".\n",
        "   - Новый ноутбук откроется в новой вкладке, где вы сможете начать писать и выполнять код."
      ],
      "metadata": {
        "id": "N5uA8mGjAMB0"
      }
    },
    {
      "cell_type": "markdown",
      "source": [
        "### Запуск первой программы \"Hello, World!\""
      ],
      "metadata": {
        "id": "ZzXickpPAS87"
      }
    },
    {
      "cell_type": "markdown",
      "source": [
        "1. **Добавьте ячейку кода**:\n",
        "   - В вашем новом ноутбуке будет уже открыта одна ячейка кода.\n",
        "   - Если нужно добавить дополнительную ячейку, нажмите кнопку \"+ Код\".\n",
        "\n",
        "2. **Напишите код**:\n",
        "   - В ячейке кода введите следующую строку: print(\"Hello, World!\")\n",
        "\n",
        "3. **Выполните код**:\n",
        "   - Чтобы выполнить ячейку кода, нажмите на значок \"play\" (треугольник слева от ячейки) или используйте сочетание клавиш `Shift + Enter`.\n",
        "   - После выполнения команды внизу ячейки вы увидите надпись \"Hello, World!\".\n"
      ],
      "metadata": {
        "id": "2foiIjvzAWEy"
      }
    },
    {
      "cell_type": "code",
      "execution_count": null,
      "metadata": {
        "colab": {
          "base_uri": "https://localhost:8080/"
        },
        "id": "W18tjSYWlX40",
        "outputId": "de57a7f3-8f0b-490e-d34b-2dc117ff33a6"
      },
      "outputs": [
        {
          "output_type": "stream",
          "name": "stdout",
          "text": [
            "Hello, World!\n"
          ]
        }
      ],
      "source": [
        "print(\"Hello, World!\")"
      ]
    },
    {
      "cell_type": "markdown",
      "source": [
        "**Примечание:**\n",
        "\n",
        "- **`print`** — встроенная функция в Python, которая выводит текст или данные на экран.\n",
        "- Аргументы **`print`**:\n",
        "  - Первый и основной аргумент — это текст или данные, которые мы хотим вывести.\n",
        "  - Дополнительные параметры позволяют настроить параметры вывода, разделители между элементами (`sep`), окончание строки (`end`) и др."
      ],
      "metadata": {
        "id": "5Qcqc4DJ5xUK"
      }
    },
    {
      "cell_type": "code",
      "source": [
        "print(\"яблоко\", \"банан\", \"вишня\", sep=\": \")\n",
        "print(\"Привет\", end=\"!\")"
      ],
      "metadata": {
        "colab": {
          "base_uri": "https://localhost:8080/"
        },
        "id": "VTQDE9yJ60UN",
        "outputId": "bb1ab9d1-7825-4e0d-fd5a-cf25fe481bf0"
      },
      "execution_count": null,
      "outputs": [
        {
          "output_type": "stream",
          "name": "stdout",
          "text": [
            "яблоко: банан: вишня\n",
            "Привет!"
          ]
        }
      ]
    },
    {
      "cell_type": "markdown",
      "source": [
        "Поздравляем! Вы успешно запустили свою первую программу на Python в Google Colab."
      ],
      "metadata": {
        "id": "5OaHQE83C4mC"
      }
    },
    {
      "cell_type": "code",
      "source": [
        "# @title Задать вопрос нейро-куратору\n",
        "\n",
        "question = \"Надо устанавливать интерпретатор Python в Google Colab?\" #@param {type:\"string\"}\n",
        "url = \"http://31.129.102.77:80/curatorv1/qa\"\n",
        "headers = {\"Content-Type\": \"application/json\",\n",
        "    \"Authorization\": os.environ[\"UII_API_KEY\"]\n",
        "    }\n",
        "data = {\n",
        "    \"question\": question,\n",
        "    \"user_id\": user_id_seed,\n",
        "    \"topic\": ''\n",
        "}\n",
        "\n",
        "response = requests.post(url, headers=headers, data=json.dumps(data))\n",
        "print(json.loads(response.text))"
      ],
      "metadata": {
        "colab": {
          "base_uri": "https://localhost:8080/"
        },
        "cellView": "form",
        "outputId": "29350540-9b9e-4e0b-ab40-1784d8d781c4",
        "id": "XNA4-aJz8F8z"
      },
      "execution_count": null,
      "outputs": [
        {
          "output_type": "stream",
          "name": "stdout",
          "text": [
            "Да, в Google Colab интерпретатор Python уже установлен по умолчанию, поэтому вам не нужно устанавливать его отдельно. Google Colab предоставляет среду выполнения, в которой вы можете писать и запускать код на Python без необходимости установки интерпретатора на своем локальном компьютере. Просто создайте новую записную книжку Colab и начинайте писать код на Python прямо в ячейках.\n"
          ]
        }
      ]
    },
    {
      "cell_type": "code",
      "source": [
        "# @title Задать вопрос нейро-куратору\n",
        "\n",
        "question = \"Print позволяет выводить текст, а как попросить пользователя ввести текст для нас? Учти при ответе, что я совсем новичок\" #@param {type:\"string\"}\n",
        "url = \"http://31.129.102.77:80/curatorv1/qa\"\n",
        "headers = {\"Content-Type\": \"application/json\",\n",
        "    \"Authorization\": os.environ[\"UII_API_KEY\"]\n",
        "    }\n",
        "data = {\n",
        "    \"question\": question,\n",
        "    \"user_id\": user_id_seed,\n",
        "    \"topic\": ''\n",
        "}\n",
        "\n",
        "response = requests.post(url, headers=headers, data=json.dumps(data))\n",
        "print(json.loads(response.text))"
      ],
      "metadata": {
        "cellView": "form",
        "id": "p-QRf4isalUv",
        "colab": {
          "base_uri": "https://localhost:8080/"
        },
        "outputId": "7a4b7047-25aa-4fdc-ed4c-c5d8009e1a9c"
      },
      "execution_count": null,
      "outputs": [
        {
          "output_type": "stream",
          "name": "stdout",
          "text": [
            "Для того чтобы попросить пользователя ввести текст в Python, можно использовать функцию `input()`. Эта функция позволяет получить ввод от пользователя через консоль.\n",
            "\n",
            "Пример использования функции `input()` для запроса текста у пользователя:\n",
            "```python\n",
            "user_input = input(\"Пожалуйста, введите текст: \")\n",
            "print(\"Вы ввели следующий текст:\", user_input)\n",
            "```\n",
            "\n",
            "При запуске этого кода, программа выведет сообщение \"Пожалуйста, введите текст:\", после чего пользователь сможет ввести текст с клавиатуры. Введенный текст будет сохранен в переменной `user_input`, и затем программа выведет этот текст на экран.\n",
            "\n",
            "Таким образом, функция `input()` позволяет взаимодействовать с пользователем, запрашивая ввод текста или других данных.\n"
          ]
        }
      ]
    },
    {
      "cell_type": "markdown",
      "source": [
        "# **2. Основы синтаксиса Python**"
      ],
      "metadata": {
        "id": "4oSgJuULGbZz"
      }
    },
    {
      "cell_type": "markdown",
      "source": [
        "## **Синтаксис, переменные и типы данных**"
      ],
      "metadata": {
        "id": "zkDkeRcxLd3S"
      }
    },
    {
      "cell_type": "markdown",
      "source": [
        "### Синтаксис"
      ],
      "metadata": {
        "id": "oEHt_Wg7JfkK"
      }
    },
    {
      "cell_type": "markdown",
      "source": [
        "- **Синтаксис** — это набор правил, определяющих структуру и порядок написания программного кода.\n",
        "- В Python синтаксис прост и сфокусирован на читаемости кода.\n",
        "- Основные элементы синтаксиса включают:"
      ],
      "metadata": {
        "id": "y0e-WwwQ4SFq"
      }
    },
    {
      "cell_type": "markdown",
      "source": [
        "1. **Отступы**:\n",
        "   - Используются для обозначения блоков кода.\n",
        "   - Стандартным соглашением является 4 пробела на уровень отступа, но главное использовать одинаковое количество пробелов в одном блоке кода.."
      ],
      "metadata": {
        "id": "DknRj4nU4Wmn"
      }
    },
    {
      "cell_type": "code",
      "source": [
        "if True:  # Блок кода с отступом\n",
        "    print(\"Отступ используется для определения блоков кода.\")"
      ],
      "metadata": {
        "colab": {
          "base_uri": "https://localhost:8080/"
        },
        "id": "Bgzr89aG4dIB",
        "outputId": "d81499ae-3fa0-443a-88b2-93445618a612"
      },
      "execution_count": null,
      "outputs": [
        {
          "output_type": "stream",
          "name": "stdout",
          "text": [
            "Отступ используется для определения блоков кода.\n"
          ]
        }
      ]
    },
    {
      "cell_type": "markdown",
      "source": [
        "2. **Комментарии**:\n",
        "   - Добавляются с помощью символа `#`.\n",
        "   - Комментарии поясняют код и не влияют на выполнение программы."
      ],
      "metadata": {
        "id": "44aeW9Al4m0z"
      }
    },
    {
      "cell_type": "code",
      "source": [
        "# Это комментарий, поясняющий код\n",
        "print(\"Комментарии начинаются с символа #\")"
      ],
      "metadata": {
        "colab": {
          "base_uri": "https://localhost:8080/"
        },
        "id": "Tyr9DDCU4sXv",
        "outputId": "6460a9a1-7d87-4ec3-a781-5935e1b78e10"
      },
      "execution_count": null,
      "outputs": [
        {
          "output_type": "stream",
          "name": "stdout",
          "text": [
            "Комментарии начинаются с символа #\n"
          ]
        }
      ]
    },
    {
      "cell_type": "markdown",
      "source": [
        "3. **Строки**:\n",
        "   - Строки заключаются в одинарные или двойные кавычки.\n",
        "   - Многострочные строки можно заключать в тройные кавычки (''' или \"\"\")."
      ],
      "metadata": {
        "id": "3fX0b0fvJt5G"
      }
    },
    {
      "cell_type": "code",
      "source": [
        "single_quoted = 'Одинарные кавычки'\n",
        "double_quoted = \"Двойные кавычки\"\n",
        "multi_line = '''Многострочная\n",
        "строка'''"
      ],
      "metadata": {
        "id": "M6-7kjnc46Z_"
      },
      "execution_count": null,
      "outputs": []
    },
    {
      "cell_type": "markdown",
      "source": [
        "### Переменные"
      ],
      "metadata": {
        "id": "uSZhsx5nYdwo"
      }
    },
    {
      "cell_type": "markdown",
      "source": [
        "- **Переменные** — это именованные области памяти, используемые для хранения данных.\n",
        "- Основные принципы работы с переменными:\n",
        "\n",
        "1. **Создание переменной**:\n",
        "   - Присвоение значения переменной с помощью оператора `=`.\n",
        "\n",
        "2. **Названия переменных**:\n",
        "   - Названия переменных чувствительны к регистру, т. е. переменные `age` и `Age` считаются разными.\n",
        "   - Название переменной должно начинаться с буквы или символа подчеркивания `_`.\n",
        "   - Название может содержать цифры, но не может начинаться с цифры.\n",
        "   - Примеры правильных имен: `_counter`, `user_name`, `score2`."
      ],
      "metadata": {
        "id": "-HynvhDeX7jf"
      }
    },
    {
      "cell_type": "code",
      "source": [
        "# Примеры правильных имен переменных\n",
        "_counter = 5\n",
        "user_name = \"Bob\"\n",
        "score2 = 95"
      ],
      "metadata": {
        "id": "P30LmnPJ891X"
      },
      "execution_count": null,
      "outputs": []
    },
    {
      "cell_type": "code",
      "source": [
        "# Примеры вывода переменных\n",
        "print(\"_counter:\", _counter)\n",
        "print(\"Имя пользователя:\", user_name)\n",
        "print(\"Оценка:\", score2)"
      ],
      "metadata": {
        "colab": {
          "base_uri": "https://localhost:8080/"
        },
        "id": "Kaa1MqJp9CEY",
        "outputId": "2b301d0d-850a-4819-e9f6-6a26491b9eef"
      },
      "execution_count": null,
      "outputs": [
        {
          "output_type": "stream",
          "name": "stdout",
          "text": [
            "_counter: 5\n",
            "Имя пользователя: Bob\n",
            "Оценка: 95\n"
          ]
        }
      ]
    },
    {
      "cell_type": "code",
      "source": [
        "# Переменные чувствительны к регистру\n",
        "Age = 30\n",
        "age = 40\n",
        "print(\"Значение переменной Age:\", Age)\n",
        "print(\"Значение переменной age:\", age)"
      ],
      "metadata": {
        "colab": {
          "base_uri": "https://localhost:8080/"
        },
        "id": "50Ytk-pzfMu0",
        "outputId": "97baf35b-6188-47c6-e111-f8e0c18b8d2b"
      },
      "execution_count": null,
      "outputs": [
        {
          "output_type": "stream",
          "name": "stdout",
          "text": [
            "Значение переменной Age: 30\n",
            "Значение переменной age: 40\n"
          ]
        }
      ]
    },
    {
      "cell_type": "markdown",
      "source": [
        "### Типы данных\n",
        "\n",
        "1. **Целые числа (int)**:\n",
        "   - Для хранения целых чисел (положительных или отрицательных).\n",
        "\n",
        "2. **Вещественные числа (float)**:\n",
        "   - Для хранения чисел с плавающей запятой.\n",
        "\n",
        "3. **Строки (str)**:\n",
        "   - Для хранения текстовой информации.\n",
        "\n",
        "4. **Булевы значения (bool)**:\n",
        "   - Хранят значения `True` (истина) или `False` (ложь)."
      ],
      "metadata": {
        "id": "27hSE-NMYnCu"
      }
    },
    {
      "cell_type": "code",
      "source": [
        "# Переменные разных типов данных\n",
        "integer_value = 25          # int\n",
        "float_value = 1.75          # float\n",
        "string_value = \"Alice\"      # str\n",
        "boolean_value = True        # bool"
      ],
      "metadata": {
        "id": "q1-wgCoM9VLj"
      },
      "execution_count": null,
      "outputs": []
    },
    {
      "cell_type": "code",
      "source": [
        "# Вывод переменных на экран\n",
        "print(\"Целое число:\", integer_value)\n",
        "print(\"Вещественное число:\", float_value)\n",
        "print(\"Строка:\", string_value)\n",
        "print(\"Булево значение:\", boolean_value)"
      ],
      "metadata": {
        "colab": {
          "base_uri": "https://localhost:8080/"
        },
        "id": "67C6BK4Nezd_",
        "outputId": "3295cff8-755c-4e1e-da41-c51cccfd1932"
      },
      "execution_count": null,
      "outputs": [
        {
          "output_type": "stream",
          "name": "stdout",
          "text": [
            "Целое число: 25\n",
            "Вещественное число: 1.75\n",
            "Строка: Alice\n",
            "Булево значение: True\n"
          ]
        }
      ]
    },
    {
      "cell_type": "code",
      "source": [
        "# @title Задать вопрос нейро-куратору\n",
        "\n",
        "question = \"При каких блоках кода надо использовать отступы?\" #@param {type:\"string\"}\n",
        "url = \"http://31.129.102.77:80/curatorv1/qa\"\n",
        "headers = {\"Content-Type\": \"application/json\",\n",
        "    \"Authorization\": os.environ[\"UII_API_KEY\"]\n",
        "    }\n",
        "data = {\n",
        "    \"question\": question,\n",
        "    \"user_id\": user_id_seed,\n",
        "    \"topic\": ''\n",
        "}\n",
        "\n",
        "response = requests.post(url, headers=headers, data=json.dumps(data))\n",
        "print(json.loads(response.text))"
      ],
      "metadata": {
        "colab": {
          "base_uri": "https://localhost:8080/"
        },
        "cellView": "form",
        "outputId": "c08389fe-1a31-4b81-b12e-13c8670cbb8c",
        "id": "Xb8_g3Bv8KB8"
      },
      "execution_count": null,
      "outputs": [
        {
          "output_type": "stream",
          "name": "stdout",
          "text": [
            "Отступы в блоках кода необходимо использовать в следующих случаях:\n",
            "1. Если у блока кода есть условные операторы (например, if, else, elif), то следующий блок кода должен быть с отступом, чтобы указать, что он относится к данному условию.\n",
            "2. При использовании циклов (например, for, while) также необходимо использовать отступы для следующего блока кода внутри цикла.\n",
            "3. При определении функций в Python также принято использовать отступы для блока кода внутри функции.\n",
            "4. В случае работы с классами в Python, отступы используются для методов класса.\n",
            "\n",
            "Пример использования отступов в Python:\n",
            "\n",
            "```python\n",
            "if x > 5:\n",
            "    print(\"x is greater than 5\")\n",
            "    # следующий блок кода с отступом\n",
            "    y = x * 2\n",
            "    print(y)\n",
            "else:\n",
            "    print(\"x is less than or equal to 5\")\n",
            "    # следующий блок кода с отступом\n",
            "    z = x / 2\n",
            "    print(z)\n",
            "```\n",
            "\n",
            "Важно помнить, что в Python отступы играют ключевую роль в определении блоков кода и их вложенности, поэтому правильное использование отступов поможет избежать ошибок и сделает код более читаемым.\n"
          ]
        }
      ]
    },
    {
      "cell_type": "markdown",
      "source": [
        "## **Встроенные функции для работы с типами данных, операторы сравнения и логические операторы**"
      ],
      "metadata": {
        "id": "IjKh9C8kkGsW"
      }
    },
    {
      "cell_type": "markdown",
      "source": [
        "### Встроенные функции для работы с типами данных"
      ],
      "metadata": {
        "id": "sYHUqu3ckPLt"
      }
    },
    {
      "cell_type": "markdown",
      "source": [
        "Python предоставляет ряд встроенных функций, которые позволяют работать с различными типами данных.\n",
        "\n",
        "1. **Функция `type`**:\n",
        "   - Возвращает тип данных переменной.\n",
        "   - Пример: `type(42)`."
      ],
      "metadata": {
        "id": "TLVJOujK_oIo"
      }
    },
    {
      "cell_type": "code",
      "source": [
        "# Определение типа переменной\n",
        "integer_value = 42\n",
        "print(\"Тип переменной integer_value:\", type(integer_value))"
      ],
      "metadata": {
        "colab": {
          "base_uri": "https://localhost:8080/"
        },
        "id": "xpz00zxp_tCy",
        "outputId": "32d2935e-6788-4ddd-f9c8-a3c4dfdb531a"
      },
      "execution_count": null,
      "outputs": [
        {
          "output_type": "stream",
          "name": "stdout",
          "text": [
            "Тип переменной integer_value: <class 'int'>\n"
          ]
        }
      ]
    },
    {
      "cell_type": "markdown",
      "source": [
        "2. **Функции преобразования типов**:\n",
        "   - Позволяют преобразовывать данные из одного типа в другой.\n",
        "   - Примеры:\n",
        "     - `int(\"42\")`: преобразует строку в целое число.\n",
        "     - `float(\"3.14\")`: преобразует строку в число с плавающей запятой.\n",
        "     - `str(42)`: преобразует число в строку.\n",
        "     - `bool(0)`: преобразует число в логическое значение `False`."
      ],
      "metadata": {
        "id": "EZuVTlcjkAvE"
      }
    },
    {
      "cell_type": "code",
      "source": [
        "# Пример преобразования строки в число с помощью int\n",
        "string_number = \"42\"\n",
        "integer_number = int(string_number)\n",
        "print(\"Строка '42' преобразована в целое число:\", integer_number)"
      ],
      "metadata": {
        "colab": {
          "base_uri": "https://localhost:8080/"
        },
        "id": "H7Ws6Tf0_8fo",
        "outputId": "8991bdb2-51a8-4071-a342-a31a680ec9ee"
      },
      "execution_count": null,
      "outputs": [
        {
          "output_type": "stream",
          "name": "stdout",
          "text": [
            "Строка '42' преобразована в целое число: 42\n"
          ]
        }
      ]
    },
    {
      "cell_type": "code",
      "source": [
        "# Пример преобразования строки в число с помощью float\n",
        "float_number = float(\"3.14\")\n",
        "print(\"Строка '3.14' преобразована в число с плавающей запятой:\", float_number)"
      ],
      "metadata": {
        "colab": {
          "base_uri": "https://localhost:8080/"
        },
        "id": "skzQmn-Ylp8V",
        "outputId": "d555b3af-1d52-46ca-a21b-a4eeaea9b250"
      },
      "execution_count": null,
      "outputs": [
        {
          "output_type": "stream",
          "name": "stdout",
          "text": [
            "Строка '3.14' преобразована в число с плавающей запятой: 3.14\n"
          ]
        }
      ]
    },
    {
      "cell_type": "code",
      "source": [
        "# Пример преобразования числа в строку с помощью str\n",
        "number = 42\n",
        "number_str = str(number)\n",
        "print(\"Преобразованное в строку значение:\", number_str)"
      ],
      "metadata": {
        "colab": {
          "base_uri": "https://localhost:8080/"
        },
        "id": "7nrpFEToCE2z",
        "outputId": "f82ec21b-5f39-455e-e245-79789168521a"
      },
      "execution_count": null,
      "outputs": [
        {
          "output_type": "stream",
          "name": "stdout",
          "text": [
            "Преобразованное в строку значение: 42\n"
          ]
        }
      ]
    },
    {
      "cell_type": "code",
      "source": [
        "# Пример преобразования числа в булево значение с помощью bool\n",
        "boolean_value = bool(0)\n",
        "print(\"Число 0 преобразовано в булево значение:\", boolean_value)"
      ],
      "metadata": {
        "colab": {
          "base_uri": "https://localhost:8080/"
        },
        "id": "KHkoJ3YwAnIn",
        "outputId": "842f64b6-022d-4477-cb40-d0a40f7279ea"
      },
      "execution_count": null,
      "outputs": [
        {
          "output_type": "stream",
          "name": "stdout",
          "text": [
            "Число 0 преобразовано в булево значение: False\n"
          ]
        }
      ]
    },
    {
      "cell_type": "markdown",
      "source": [
        "**Примечание:**\n",
        "\n",
        "В Python булевые значения следуют таким правилам:\n",
        "- 0 (и любые другие значения, оцениваемые как пустые, например, None, пустой список или пустая строка) преобразуются в False.\n",
        "- 1 (и любые ненулевые числа или непустые объекты) преобразуются в True."
      ],
      "metadata": {
        "id": "eL-fIYKCGDgs"
      }
    },
    {
      "cell_type": "code",
      "source": [
        "# @title Задать вопрос нейро-куратору\n",
        "\n",
        "question = \"Можно ли в Python число с плавающей точкой преобразовать в целое?\" #@param {type:\"string\"}\n",
        "url = \"http://31.129.102.77:80/curatorv1/qa\"\n",
        "headers = {\"Content-Type\": \"application/json\",\n",
        "    \"Authorization\": os.environ[\"UII_API_KEY\"]\n",
        "    }\n",
        "data = {\n",
        "    \"question\": question,\n",
        "    \"user_id\": user_id_seed,\n",
        "    \"topic\": ''\n",
        "}\n",
        "\n",
        "response = requests.post(url, headers=headers, data=json.dumps(data))\n",
        "print(json.loads(response.text))"
      ],
      "metadata": {
        "colab": {
          "base_uri": "https://localhost:8080/"
        },
        "cellView": "form",
        "outputId": "eb883241-8120-4e65-f397-fe5fa0433533",
        "id": "eMQrpRXS8Qt_"
      },
      "execution_count": null,
      "outputs": [
        {
          "output_type": "stream",
          "name": "stdout",
          "text": [
            "Да, в Python число с плавающей точкой можно преобразовать в целое число. Для этого можно воспользоваться функцией `int()`. \n",
            "\n",
            "Пример:\n",
            "\n",
            "```python\n",
            "# Преобразование числа с плавающей точкой в целое число\n",
            "float_number = 3.7\n",
            "integer_number = int(float_number)\n",
            "print(integer_number)  # Вывод: 3\n",
            "```\n",
            "\n",
            "При использовании функции `int()` число с плавающей точкой будет преобразовано в целое число путем отбрасывания дробной части. Пожалуйста, обратите внимание, что при таком преобразовании дробная часть числа будет просто отброшена, а не округлена.\n"
          ]
        }
      ]
    },
    {
      "cell_type": "markdown",
      "source": [
        "### Операторы сравнения"
      ],
      "metadata": {
        "id": "O7EilaWUlDav"
      }
    },
    {
      "cell_type": "markdown",
      "source": [
        "Операторы сравнения позволяют сравнивать значения и возвращать логическое значение (`True` или `False`).\n",
        "\n",
        "1. **Равно (`==`)**:\n",
        "   - Проверяет, равны ли два значения.\n",
        "   - Пример: `5 == 5` возвращает `True`.\n",
        "\n",
        "2. **Не равно (`!=`)**:\n",
        "   - Проверяет, не равны ли два значения.\n",
        "   - Пример: `5 != 3` возвращает `True`.\n",
        "\n",
        "3. **Больше (`>`) и меньше (`<`)**:\n",
        "   - Сравнивают два значения, проверяя, больше или меньше ли первое значение второго.\n",
        "   - Пример: `10 > 5` возвращает `True`, а `3 < 1` возвращает `False`.\n",
        "\n",
        "4. **Больше или равно (`>=`) и меньше или равно (`<=`)**:\n",
        "   - Проверяют, больше/меньше ли значение либо равно ему.\n",
        "   - Пример: `10 >= 10` возвращает `True`, а `3 <= 2` возвращает `False`.\n"
      ],
      "metadata": {
        "id": "8TTgMIWclCC7"
      }
    },
    {
      "cell_type": "code",
      "source": [
        "# Примеры операторов сравнения\n",
        "print(\"5 == 5:\", 5 == 5)\n",
        "print(\"5 != 3:\", 5 != 3)\n",
        "print(\"10 > 5:\", 10 > 5)\n",
        "print(\"3 < 1:\", 3 < 1)\n",
        "print(\"10 >= 10:\", 10 >= 10)\n",
        "print(\"3 <= 2:\", 3 <= 2)"
      ],
      "metadata": {
        "colab": {
          "base_uri": "https://localhost:8080/"
        },
        "id": "2Vbl5NJtmFz8",
        "outputId": "ad3b558b-4f1d-41f6-d4bd-960fc79b736d"
      },
      "execution_count": null,
      "outputs": [
        {
          "output_type": "stream",
          "name": "stdout",
          "text": [
            "5 == 5: True\n",
            "5 != 3: True\n",
            "10 > 5: True\n",
            "3 < 1: False\n",
            "10 >= 10: True\n",
            "3 <= 2: False\n"
          ]
        }
      ]
    },
    {
      "cell_type": "markdown",
      "source": [
        "### Логические операторы"
      ],
      "metadata": {
        "id": "hACm5-FNlSQV"
      }
    },
    {
      "cell_type": "markdown",
      "source": [
        "Логические операторы позволяют комбинировать несколько условий.\n",
        "\n",
        "1. **and**:\n",
        "   - Возвращает `True`, если оба условия истинны.\n",
        "   - Пример: `(5 > 2) and (3 != 4)` возвращает `True`.\n",
        "\n",
        "2. **or**:\n",
        "   - Возвращает `True`, если хотя бы одно условие истинно.\n",
        "   - Пример: `(5 > 10) or (3 != 4)` возвращает `True`.\n",
        "\n",
        "3. **not**:\n",
        "   - Изменяет значение условия на противоположное.\n",
        "   - Пример: `not (5 == 5)` возвращает `False`."
      ],
      "metadata": {
        "id": "NCZW10b_lVF0"
      }
    },
    {
      "cell_type": "code",
      "source": [
        "# Примеры логических операторов\n",
        "print(\"(5 > 2) and (3 != 4):\", (5 > 2) and (3 != 4))\n",
        "print(\"(5 > 10) or (3 != 4):\", (5 > 10) or (3 != 4))\n",
        "print(\"not (5 == 5):\", not (5 == 5))"
      ],
      "metadata": {
        "colab": {
          "base_uri": "https://localhost:8080/"
        },
        "id": "UUeIdwV0mIrt",
        "outputId": "71f1e70a-b3f9-4384-ca24-245c40d43004"
      },
      "execution_count": null,
      "outputs": [
        {
          "output_type": "stream",
          "name": "stdout",
          "text": [
            "(5 > 2) and (3 != 4): True\n",
            "(5 > 10) or (3 != 4): True\n",
            "not (5 == 5): False\n"
          ]
        }
      ]
    },
    {
      "cell_type": "code",
      "source": [
        "# @title Задать вопрос нейро-куратору\n",
        "\n",
        "question = \"Можно ли в Python сравнивать не только числа?\" #@param {type:\"string\"}\n",
        "url = \"http://31.129.102.77:80/curatorv1/qa\"\n",
        "headers = {\"Content-Type\": \"application/json\",\n",
        "    \"Authorization\": os.environ[\"UII_API_KEY\"]\n",
        "    }\n",
        "data = {\n",
        "    \"question\": question,\n",
        "    \"user_id\": user_id_seed,\n",
        "    \"topic\": ''\n",
        "}\n",
        "\n",
        "response = requests.post(url, headers=headers, data=json.dumps(data))\n",
        "print(json.loads(response.text))"
      ],
      "metadata": {
        "colab": {
          "base_uri": "https://localhost:8080/"
        },
        "cellView": "form",
        "outputId": "1965d743-cec4-44ff-bbdf-7531fa59f16c",
        "id": "wLAsTg7U8Tyv"
      },
      "execution_count": null,
      "outputs": [
        {
          "output_type": "stream",
          "name": "stdout",
          "text": [
            "Да, в Python можно сравнивать не только числа, но и другие типы данных. При сравнении различных типов данных, Python использует определенные правила для сравнения. Вот как это работает:\n",
            "\n",
            "1. **Сравнение чисел**: \n",
            "   - Числа сравниваются обычным образом: \n",
            "     - `==` - равно\n",
            "     - `!=` - не равно\n",
            "     - `>` - больше\n",
            "     - `<` - меньше\n",
            "     - `>=` - больше или равно\n",
            "     - `<=` - меньше или равно\n",
            "\n",
            "2. **Сравнение строк**:\n",
            "   - Строки сравниваются лексикографически (по алфавиту):\n",
            "     - `\"apple\" < \"banana\"` - True\n",
            "     - `\"apple\" == \"Apple\"` - False\n",
            "\n",
            "3. **Сравнение списков и других последовательностей**:\n",
            "   - Списки и другие последовательности сравниваются поэлементно:\n",
            "     - `[1, 2, 3] < [1, 2, 4]` - True\n",
            "     - `(\"apple\", \"banana\") < (\"orange\", \"pear\")` - True\n",
            "\n",
            "4. **Сравнение разных типов данных**:\n",
            "   - При сравнении разных типов данных Python использует правила преобразования типов. Например, целые числа могут быть сравнены с числами с плавающей запятой.\n",
            "\n",
            "5. **Сравнение объектов**:\n",
            "   - При сравнении пользовательских объектов Python использует методы `__eq__`, `__lt__`, и другие для определения поведения сравнения.\n",
            "\n",
            "Таким образом, в Python можно сравнивать различные типы данных, и результат сравнения будет зависеть от типов данных и их значений.\n"
          ]
        }
      ]
    },
    {
      "cell_type": "markdown",
      "source": [
        "## **Практическое задание: Создать программу с арифметическими операциями**"
      ],
      "metadata": {
        "id": "_0pXcfMUqBgg"
      }
    },
    {
      "cell_type": "markdown",
      "source": [
        "### Задание"
      ],
      "metadata": {
        "id": "FexuKd_RqFhk"
      }
    },
    {
      "cell_type": "markdown",
      "source": [
        "В этом задании создадим программу, которая будет выполнять базовые арифметические операции (сложение, вычитание, умножение и деление) между двумя числами. Программа также должна выводить результаты на экран.\n",
        "\n",
        "**Задачи**:\n",
        "\n",
        "1. Введите два числа.\n",
        "\n",
        "2. Выполните арифметические операции:\n",
        "   - Сложение (`+`).\n",
        "   - Вычитание (`-`).\n",
        "   - Умножение (`*`).\n",
        "   - Деление (`/`).\n",
        "   - Целочисленное деление (`//`).\n",
        "   - Деление с остатком (`%`).\n",
        "   - Возведение в степень (`**`).\n",
        "\n",
        "3. Выведите результаты каждой операции."
      ],
      "metadata": {
        "id": "zmuMLj7pqAHs"
      }
    },
    {
      "cell_type": "markdown",
      "source": [
        "### Решение"
      ],
      "metadata": {
        "id": "aF_kDEdYqKX7"
      }
    },
    {
      "cell_type": "code",
      "source": [
        "# Вводим два числа, преобразуем их к типу float\n",
        "number1 = float(input(\"Введите первое число: \"))\n",
        "number2 = float(input(\"Введите второе число: \"))"
      ],
      "metadata": {
        "colab": {
          "base_uri": "https://localhost:8080/"
        },
        "id": "vARyp0pvC6zp",
        "outputId": "6c3ea2a6-d285-44ac-bf6c-69672e899564"
      },
      "execution_count": null,
      "outputs": [
        {
          "name": "stdout",
          "output_type": "stream",
          "text": [
            "Введите первое число: 9\n",
            "Введите второе число: 4\n"
          ]
        }
      ]
    },
    {
      "cell_type": "code",
      "source": [
        "# Выполняем арифметические операции\n",
        "addition = number1 + number2  # Сложение\n",
        "subtraction = number1 - number2  # Вычитание\n",
        "multiplication = number1 * number2  # Умножение\n",
        "division = number1 / number2  # Деление\n",
        "integer_division = number1 // number2  # Целочисленное деление\n",
        "remainder_division = number1 % number2  # Деление с остатком\n",
        "power = number1 ** number2  # Возведение в степень"
      ],
      "metadata": {
        "id": "QcqrG62RMI5i"
      },
      "execution_count": null,
      "outputs": []
    },
    {
      "cell_type": "code",
      "source": [
        "# Выводим результаты на экран с указанием операции\n",
        "print(\"Результаты арифметических операций:\")\n",
        "print(f\"Сложение: {number1} + {number2} = {addition}\")\n",
        "print(f\"Вычитание: {number1} - {number2} = {subtraction}\")\n",
        "print(f\"Умножение: {number1} * {number2} = {multiplication}\")\n",
        "print(f\"Деление: {number1} / {number2} = {division}\")\n",
        "print(f\"Целочисленное деление: {number1} // {number2} = {integer_division}\")\n",
        "print(f\"Деление с остатком: {number1} % {number2} = {remainder_division}\")\n",
        "print(f\"Возведение в степень: {number1} ** {number2} = {power}\")"
      ],
      "metadata": {
        "colab": {
          "base_uri": "https://localhost:8080/"
        },
        "id": "6How2L-iqO-1",
        "outputId": "dcca1273-6a9f-4045-86dc-c08e5fb16321"
      },
      "execution_count": null,
      "outputs": [
        {
          "output_type": "stream",
          "name": "stdout",
          "text": [
            "Результаты арифметических операций:\n",
            "Сложение: 9.0 + 4.0 = 13.0\n",
            "Вычитание: 9.0 - 4.0 = 5.0\n",
            "Умножение: 9.0 * 4.0 = 36.0\n",
            "Деление: 9.0 / 4.0 = 2.25\n",
            "Целочисленное деление: 9.0 // 4.0 = 2.0\n",
            "Деление с остатком: 9.0 % 4.0 = 1.0\n",
            "Возведение в степень: 9.0 ** 4.0 = 6561.0\n"
          ]
        }
      ]
    },
    {
      "cell_type": "markdown",
      "source": [
        "**Примечание:**\n",
        "- **`input`** - встроенная функция, которая используется для ввода данных от пользователя. Возвращает введенное значение как строку, поэтому его нужно преобразовать в нужный тип данных с помощью функций преобразования (`float`, `int` и др.).\n",
        "\n",
        "- **Целочисленное деление (`//`)** - операция, которая возвращает только целую часть от деления.\n",
        "   - Например, `9 // 4` возвращает `2`, так как 9 разделить на 4 дает 2 с остатком.\n",
        "\n",
        "- **Деление с остатком (`%`)** - операция, которая возвращает остаток от деления.\n",
        "   - Например, `9 % 4` возвращает `1`, так как 9 делится на 4 с остатком 1."
      ],
      "metadata": {
        "id": "Dmoi8QTvwYdl"
      }
    },
    {
      "cell_type": "code",
      "source": [
        "# @title Задать вопрос нейро-куратору\n",
        "\n",
        "question = \"Что значит f в коде print(f\\\"Сложение: {number1} + {number2} = {addition}\\\")?\" #@param {type:\"string\"}\n",
        "url = \"http://31.129.102.77:80/curatorv1/qa\"\n",
        "headers = {\"Content-Type\": \"application/json\",\n",
        "    \"Authorization\": os.environ[\"UII_API_KEY\"]\n",
        "    }\n",
        "data = {\n",
        "    \"question\": question,\n",
        "    \"user_id\": user_id_seed,\n",
        "    \"topic\": ''\n",
        "}\n",
        "\n",
        "response = requests.post(url, headers=headers, data=json.dumps(data))\n",
        "print(json.loads(response.text))"
      ],
      "metadata": {
        "colab": {
          "base_uri": "https://localhost:8080/"
        },
        "cellView": "form",
        "outputId": "81392c06-ab27-4fb1-ab88-691ab9866dc7",
        "id": "LdxZEMJ28YLZ"
      },
      "execution_count": null,
      "outputs": [
        {
          "output_type": "stream",
          "name": "stdout",
          "text": [
            "В коде print(f\"Сложение: {number1} + {number2} = {addition}\") буква \"f\" перед строкой означает использование форматированной строки (f-string) в Python. F-строки позволяют встраивать значения переменных или выражений внутрь строки, обрамляя их фигурными скобками {}. \n",
            "\n",
            "В данном случае:\n",
            "- {number1} и {number2} - это места, куда будут подставлены значения переменных number1 и number2 соответственно.\n",
            "- {addition} - это место, куда будет подставлен результат сложения number1 и number2.\n",
            "\n",
            "Таким образом, при выполнении этой строки кода, на экран будет выведена строка, в которой значения переменных number1 и number2 будут подставлены в соответствующие места, а результат сложения number1 и number2 будет отображен после знака \"=\". \n",
            "\n",
            "Например, если number1 = 5, number2 = 3, то после выполнения строки print(f\"Сложение: {number1} + {number2} = {addition}\") на экране будет выведено: \"Сложение: 5 + 3 = 8\".\n"
          ]
        }
      ]
    },
    {
      "cell_type": "code",
      "source": [
        "# @title Задать вопрос нейро-куратору\n",
        "\n",
        "question = \"Есть ли в python что-то типа оператора case с множественным выбором по условиям?\" #@param {type:\"string\"}\n",
        "url = \"http://31.129.102.77:80/curatorv1/qa\"\n",
        "headers = {\"Content-Type\": \"application/json\",\n",
        "    \"Authorization\": os.environ[\"UII_API_KEY\"]\n",
        "    }\n",
        "data = {\n",
        "    \"question\": question,\n",
        "    \"user_id\": user_id_seed,\n",
        "    \"topic\": ''\n",
        "}\n",
        "\n",
        "response = requests.post(url, headers=headers, data=json.dumps(data))\n",
        "print(json.loads(response.text))"
      ],
      "metadata": {
        "colab": {
          "base_uri": "https://localhost:8080/"
        },
        "cellView": "form",
        "outputId": "55d38347-e9d1-4bf4-e4b7-37964f1d839e",
        "id": "mvZzWhOiD54p"
      },
      "execution_count": null,
      "outputs": [
        {
          "output_type": "stream",
          "name": "stdout",
          "text": [
            "В Python отсутствует оператор switch/case, который присутствует в некоторых других языках программирования для множественного выбора по условиям. Вместо этого в Python используется конструкция if...elif...else для реализации множественного выбора.\n",
            "\n",
            "Пример использования конструкции if...elif...else для множественного выбора в Python:\n",
            "\n",
            "```python\n",
            "# Пример программы, которая определяет время года по номеру месяца\n",
            "month = 5\n",
            "\n",
            "if month == 1:\n",
            "    season = \"Winter\"\n",
            "elif month == 2:\n",
            "    season = \"Winter\"\n",
            "elif month == 3:\n",
            "    season = \"Spring\"\n",
            "elif month == 4:\n",
            "    season = \"Spring\"\n",
            "elif month == 5:\n",
            "    season = \"Spring\"\n",
            "elif month == 6:\n",
            "    season = \"Summer\"\n",
            "elif month == 7:\n",
            "    season = \"Summer\"\n",
            "elif month == 8:\n",
            "    season = \"Summer\"\n",
            "elif month == 9:\n",
            "    season = \"Autumn\"\n",
            "elif month == 10:\n",
            "    season = \"Autumn\"\n",
            "elif month == 11:\n",
            "    season = \"Autumn\"\n",
            "elif month == 12:\n",
            "    season = \"Winter\"\n",
            "else:\n",
            "    season = \"Invalid month\"\n",
            "\n",
            "print(f\"The season for month {month} is {season}\")\n",
            "```\n",
            "\n",
            "В этом примере, в зависимости от значения переменной `month`, программа определяет соответствующее время года. Каждое условие `if...elif...else` проверяет значение переменной `month` и выполняет соответствующий блок кода.\n",
            "\n",
            "Таким образом, в Python для реализации множественного выбора по условиям используется конструкция `if...elif...else`, а не оператор switch/case, как в некоторых других языках программирования.\n"
          ]
        }
      ]
    },
    {
      "cell_type": "markdown",
      "source": [
        "# **3. Условия**"
      ],
      "metadata": {
        "id": "tPUSBP3A3NYt"
      }
    },
    {
      "cell_type": "markdown",
      "source": [
        "## **Конструкции `if-else`**"
      ],
      "metadata": {
        "id": "LJEL18L-3b1R"
      }
    },
    {
      "cell_type": "markdown",
      "source": [
        "Позволяют выполнять различные блоки кода в зависимости от выполнения определенных условий.\n",
        "\n",
        "1. **`if`**:\n",
        "   - Проверяет логическое условие.\n",
        "   - Если условие истинно (`True`), выполняется блок кода, связанный с `if`.\n",
        "\n",
        "2. **`else`**:\n",
        "   - Выполняется, если условие в блоке `if` ложно (`False`).\n",
        "   - `else` не принимает условий, а просто указывает альтернативный блок кода.\n",
        "\n",
        "3. **`elif`** (сокращение от \"else if\"):\n",
        "   - Позволяет проверять дополнительные условия, если первое условие в `if` не было выполнено.\n",
        "   - В отличие от `else`, `elif` принимает условия."
      ],
      "metadata": {
        "id": "_8kBWa7r3L07"
      }
    },
    {
      "cell_type": "markdown",
      "source": [
        "### Общая структура `if-else`"
      ],
      "metadata": {
        "id": "FYt5moXi4FRB"
      }
    },
    {
      "cell_type": "markdown",
      "source": [
        "```python\n",
        "if условие:\n",
        "    # блок кода, если условие истинно\n",
        "elif другое_условие:\n",
        "    # блок кода, если другое условие истинно\n",
        "else:\n",
        "    # блок кода, если ни одно из условий не было выполнено\n",
        "    "
      ],
      "metadata": {
        "id": "KSJQdKNa4erh"
      }
    },
    {
      "cell_type": "markdown",
      "source": [
        "### Примеры использования"
      ],
      "metadata": {
        "id": "7ZcSXbLe42UB"
      }
    },
    {
      "cell_type": "code",
      "source": [
        "# Вводим число\n",
        "number = int(input(\"Введите число: \"))\n",
        "\n",
        "# Проверяем, положительное ли число\n",
        "if number > 0:\n",
        "    print(\"Число положительное.\")\n",
        "\n",
        "# Проверяем, отрицательное ли число\n",
        "elif number < 0:\n",
        "    print(\"Число отрицательное.\")\n",
        "\n",
        "# Если число не положительное и не отрицательное, значит, оно равно нулю\n",
        "else:\n",
        "    print(\"Число равно нулю.\")"
      ],
      "metadata": {
        "colab": {
          "base_uri": "https://localhost:8080/"
        },
        "id": "xfATNQy05JK5",
        "outputId": "eabb6b22-63ae-48b3-a78e-c27be3e4eba7"
      },
      "execution_count": null,
      "outputs": [
        {
          "output_type": "stream",
          "name": "stdout",
          "text": [
            "Введите число: 0\n",
            "Число равно нулю.\n"
          ]
        }
      ]
    },
    {
      "cell_type": "code",
      "source": [
        "# Вводим возраст\n",
        "age = int(input(\"Введите ваш возраст: \"))\n",
        "\n",
        "# Если возраст меньше 18 лет\n",
        "if age < 18:\n",
        "    print(\"Вы несовершеннолетний.\")\n",
        "\n",
        "# Если возраст меньше 65 лет\n",
        "elif age < 65:\n",
        "    print(\"Вы взрослый.\")\n",
        "\n",
        "# Если возраст 65 и старше\n",
        "else:\n",
        "    print(\"Вы пенсионер.\")"
      ],
      "metadata": {
        "colab": {
          "base_uri": "https://localhost:8080/"
        },
        "id": "aDiVRgej4ytj",
        "outputId": "d8b719cb-73a5-4e50-e0e0-cf3585a6150f"
      },
      "execution_count": null,
      "outputs": [
        {
          "output_type": "stream",
          "name": "stdout",
          "text": [
            "Введите ваш возраст: 66\n",
            "Вы пенсионер.\n"
          ]
        }
      ]
    },
    {
      "cell_type": "markdown",
      "source": [
        "## **Вложенные условия**"
      ],
      "metadata": {
        "id": "9J7xAQl879aZ"
      }
    },
    {
      "cell_type": "markdown",
      "source": [
        "**Вложенные условия** — это конструкции `if-else`, находящиеся внутри других условий.\n",
        "\n",
        "- Позволяют создавать более сложную логику, когда внутри одного условия проверяются дополнительные подусловия.\n",
        "- Такие конструкции могут использоваться для выполнения различных блоков кода на основании нескольких уровней проверок.\n",
        "\n"
      ],
      "metadata": {
        "id": "UeeoIpVb76rx"
      }
    },
    {
      "cell_type": "markdown",
      "source": [
        "### Общая структура вложенных условий"
      ],
      "metadata": {
        "id": "s3bZg8D58akA"
      }
    },
    {
      "cell_type": "markdown",
      "source": [
        "```python\n",
        "if условие_1:\n",
        "    # блок кода, если условие_1 истинно\n",
        "    if подусловие_1:\n",
        "        # блок кода, если подусловие_1 истинно\n",
        "    else:\n",
        "        # блок кода, если подусловие_1 ложно\n",
        "else:\n",
        "    # блок кода, если условие_1 ложно\n",
        "    "
      ],
      "metadata": {
        "id": "ROosUoaC838X"
      }
    },
    {
      "cell_type": "markdown",
      "source": [
        "### Примеры использования"
      ],
      "metadata": {
        "id": "T4sHomCP9ykg"
      }
    },
    {
      "cell_type": "code",
      "source": [
        "# Вводим число\n",
        "number = int(input(\"Введите число: \"))"
      ],
      "metadata": {
        "colab": {
          "base_uri": "https://localhost:8080/"
        },
        "id": "3BbgfNLYPwZr",
        "outputId": "deba62e5-cef0-4e03-bea6-96ecd056873e"
      },
      "execution_count": null,
      "outputs": [
        {
          "name": "stdout",
          "output_type": "stream",
          "text": [
            "Введите число: 10\n"
          ]
        }
      ]
    },
    {
      "cell_type": "code",
      "source": [
        "# Внешнее условие проверяет, положительное ли число\n",
        "if number > 0:\n",
        "    print(\"Число положительное.\")\n",
        "    # Внутреннее условие проверяет, четное ли число\n",
        "    if number % 2 == 0:\n",
        "        print(\"Число четное.\")\n",
        "    else:\n",
        "        print(\"Число нечетное.\")\n",
        "\n",
        "# Если не положительное, внешнее условие проверяет, отрицательное ли число\n",
        "elif number < 0:\n",
        "    print(\"Число отрицательное.\")\n",
        "    # Внутреннее условие проверяет, кратно ли число 5\n",
        "    if number % 5 == 0:\n",
        "        print(\"Число кратно 5.\")\n",
        "    else:\n",
        "        print(\"Число не кратно 5.\")\n",
        "\n",
        "# Если число не положительное и не отрицательное, оно равно нулю\n",
        "else:\n",
        "    print(\"Число равно нулю.\")"
      ],
      "metadata": {
        "colab": {
          "base_uri": "https://localhost:8080/"
        },
        "id": "-N2h9AszP1C1",
        "outputId": "d9a1a2f1-cbe7-43b6-d833-5875905a5f71"
      },
      "execution_count": null,
      "outputs": [
        {
          "output_type": "stream",
          "name": "stdout",
          "text": [
            "Число положительное.\n",
            "Число четное.\n"
          ]
        }
      ]
    },
    {
      "cell_type": "code",
      "source": [
        "# @title Задать вопрос нейро-куратору\n",
        "\n",
        "question = \"Есть ли какие-то ограничения или рекомендации по количеству вложенных условий в Python?\" #@param {type:\"string\"}\n",
        "url = \"http://31.129.102.77:80/curatorv1/qa\"\n",
        "headers = {\"Content-Type\": \"application/json\",\n",
        "    \"Authorization\": os.environ[\"UII_API_KEY\"]\n",
        "    }\n",
        "data = {\n",
        "    \"question\": question,\n",
        "    \"user_id\": user_id_seed,\n",
        "    \"topic\": ''\n",
        "}\n",
        "\n",
        "response = requests.post(url, headers=headers, data=json.dumps(data))\n",
        "print(json.loads(response.text))"
      ],
      "metadata": {
        "colab": {
          "base_uri": "https://localhost:8080/"
        },
        "cellView": "form",
        "outputId": "3ebe405d-ab2c-4f87-f5ed-89e820992ab0",
        "id": "J_QEhBj88dDC"
      },
      "execution_count": null,
      "outputs": [
        {
          "output_type": "stream",
          "name": "stdout",
          "text": [
            "В Python нет жестких ограничений на количество вложенных условий, но рекомендуется избегать слишком глубокой вложенности, так как это может сделать код менее читаемым и сложным для понимания. \n",
            "\n",
            "Вместо глубокой вложенности условий, можно использовать логические операторы, такие как `and`, `or`, `not`, чтобы объединять условия и делать код более понятным. Также можно разбить сложные условия на отдельные части и использовать вложенные условия только там, где это действительно необходимо.\n",
            "\n",
            "Пример использования логических операторов в Python:\n",
            "\n",
            "```python\n",
            "x = 5\n",
            "y = 10\n",
            "\n",
            "if x > 0 and y > 0:\n",
            "    print(\"Both x and y are positive\")\n",
            "elif x > 0 or y > 0:\n",
            "    print(\"At least one of x or y is positive\")\n",
            "else:\n",
            "    print(\"Both x and y are non-positive\")\n",
            "```\n",
            "\n",
            "Такой подход делает код более читаемым и понятным, что облегчает его поддержку и развитие.\n"
          ]
        }
      ]
    },
    {
      "cell_type": "code",
      "source": [
        "# @title Задать вопрос нейро-куратору\n",
        "\n",
        "question = \"Приведи пример, как используется условный оператор if в программировании AI на Keras, именно пример, который будет относиться к программированию чего-то про нейросети, про датасеты, обучение нейронки и т.п., учти, что я прям совсем-совсем новичок\" #@param {type:\"string\"}\n",
        "url = \"http://31.129.102.77:80/curatorv1/qa\"\n",
        "headers = {\"Content-Type\": \"application/json\",\n",
        "    \"Authorization\": os.environ[\"UII_API_KEY\"]\n",
        "    }\n",
        "data = {\n",
        "    \"question\": question,\n",
        "    \"user_id\": user_id_seed,\n",
        "    \"topic\": ''\n",
        "}\n",
        "\n",
        "response = requests.post(url, headers=headers, data=json.dumps(data))\n",
        "print(json.loads(response.text))"
      ],
      "metadata": {
        "colab": {
          "base_uri": "https://localhost:8080/"
        },
        "cellView": "form",
        "outputId": "139ca339-b3fd-480f-e19e-61d918ff15df",
        "id": "lEt-Pk1hGpDc"
      },
      "execution_count": null,
      "outputs": [
        {
          "output_type": "stream",
          "name": "stdout",
          "text": [
            "Для новичков в программировании нейронных сетей на Keras, давай рассмотрим простой пример использования условного оператора if. Допустим, у нас есть задача классификации изображений с использованием нейронной сети на Keras. Мы хотим написать программу, которая будет определять, является ли изображение кошкой или собакой.\n",
            "\n",
            "Пример кода с использованием условного оператора if в Keras:\n",
            "\n",
            "```python\n",
            "# Предварительная обработка данных и подготовка датасета\n",
            "import numpy as np\n",
            "from keras.preprocessing import image\n",
            "\n",
            "# Загрузка обученной модели нейронной сети\n",
            "model = load_model('trained_model.h5')\n",
            "\n",
            "# Загрузка изображения для классификации\n",
            "img_path = 'image.jpg'\n",
            "img = image.load_img(img_path, target_size=(150, 150))\n",
            "img_array = image.img_to_array(img)\n",
            "img_array = np.expand_dims(img_array, axis=0)\n",
            "\n",
            "# Классификация изображения с помощью нейронной сети\n",
            "prediction = model.predict(img_array)\n",
            "if prediction[0][0] == 1:  # Предсказание класса кошки\n",
            "    print(\"Это изображение - кошка!\")\n",
            "else:  # Предсказание класса собаки\n",
            "    print(\"Это изображение - собака!\")\n",
            "```\n",
            "\n",
            "В этом примере мы загружаем обученную модель нейронной сети, загружаем изображение для классификации, преобразуем его в формат, подходящий для входа в модель, и затем делаем предсказание с помощью нейронной сети. После получения предсказания мы используем условный оператор if для определения, является ли предсказанное изображение кошкой или собакой.\n",
            "\n",
            "Надеюсь, этот пример поможет вам понять, как использовать условный оператор if в программировании нейронных сетей на Keras. Если у вас возникнут дополнительные вопросы, не стесняйтесь задавать!\n"
          ]
        }
      ]
    },
    {
      "cell_type": "markdown",
      "source": [
        "## **Практическое задание: Программа проверки допустимости водить автомобиль**"
      ],
      "metadata": {
        "id": "Bl4N2NyCBUmk"
      }
    },
    {
      "cell_type": "markdown",
      "source": [
        "### Задание"
      ],
      "metadata": {
        "id": "arYAG0UfBieo"
      }
    },
    {
      "cell_type": "markdown",
      "source": [
        "Создайте программу, которая будет проверять допустимость вождения автомобиля в зависимости от возраста и наличия водительского удостоверения.\n",
        "\n",
        "**Условия**:\n",
        "\n",
        "1. Если возраст меньше 16 лет, вождение недопустимо.\n",
        "2. Если возраст 16 лет и старше:\n",
        "   - Если у пользователя есть водительское удостоверение, вождение допустимо.\n",
        "   - Если удостоверения нет, вождение недопустимо."
      ],
      "metadata": {
        "id": "kLW4vj63Be9H"
      }
    },
    {
      "cell_type": "markdown",
      "source": [
        "### Решение"
      ],
      "metadata": {
        "id": "1GhFv1w-Bl2v"
      }
    },
    {
      "cell_type": "code",
      "source": [
        "# Запрашиваем у пользователя возраст\n",
        "age = int(input(\"Введите ваш возраст: \"))"
      ],
      "metadata": {
        "colab": {
          "base_uri": "https://localhost:8080/"
        },
        "id": "7Um_jMGuQ-s_",
        "outputId": "5169aaa6-e471-48d3-ab67-42c9d821886e"
      },
      "execution_count": null,
      "outputs": [
        {
          "name": "stdout",
          "output_type": "stream",
          "text": [
            "Введите ваш возраст: 25\n"
          ]
        }
      ]
    },
    {
      "cell_type": "code",
      "source": [
        "# Проверяем допустимость вождения на основе возраста и наличия удостоверения\n",
        "if age < 16:\n",
        "    print(\"Вам запрещено водить автомобиль.\")\n",
        "else:\n",
        "    # Запрашиваем у пользователя наличие водительского удостоверения\n",
        "    has_license = input(\"У вас есть водительское удостоверение? (да/нет): \").strip().lower()\n",
        "\n",
        "    # Вложенное условие для проверки наличия удостоверения\n",
        "    if has_license == \"да\":\n",
        "        print(\"Вы можете водить автомобиль.\")\n",
        "    else:\n",
        "        print(\"Вам запрещено водить автомобиль без водительского удостоверения.\")"
      ],
      "metadata": {
        "colab": {
          "base_uri": "https://localhost:8080/"
        },
        "id": "61AXsW9WBytX",
        "outputId": "945c46bb-818e-4ad1-ae85-a6ff99d168c2"
      },
      "execution_count": null,
      "outputs": [
        {
          "output_type": "stream",
          "name": "stdout",
          "text": [
            "У вас есть водительское удостоверение? (да/нет): да\n",
            "Вы можете водить автомобиль.\n"
          ]
        }
      ]
    },
    {
      "cell_type": "markdown",
      "source": [
        "**Примечание:**\n",
        "  - Метод **`strip()`** удаляет пробелы и другие незначащие символы в начале и в конце строки, что полезно при вводе данных.\n",
        "  - Метод **`lower()`** преобразует все символы строки в нижний регистр, делая ввод нечувствительным к регистру.\n"
      ],
      "metadata": {
        "id": "ISzg6N-6EhMo"
      }
    },
    {
      "cell_type": "code",
      "source": [
        "# @title Задать вопрос нейро-куратору\n",
        "\n",
        "question = \"Напиши подробнее про метод strip()?\" #@param {type:\"string\"}\n",
        "url = \"http://31.129.102.77:80/curatorv1/qa\"\n",
        "headers = {\"Content-Type\": \"application/json\",\n",
        "    \"Authorization\": os.environ[\"UII_API_KEY\"]\n",
        "    }\n",
        "data = {\n",
        "    \"question\": question,\n",
        "    \"user_id\": user_id_seed,\n",
        "    \"topic\": ''\n",
        "}\n",
        "\n",
        "response = requests.post(url, headers=headers, data=json.dumps(data))\n",
        "print(json.loads(response.text))"
      ],
      "metadata": {
        "colab": {
          "base_uri": "https://localhost:8080/"
        },
        "cellView": "form",
        "outputId": "64c1e5c6-62a9-47e9-a59e-0476d287c5b6",
        "id": "Lbw43oxr8kw0"
      },
      "execution_count": null,
      "outputs": [
        {
          "output_type": "stream",
          "name": "stdout",
          "text": [
            "Метод `strip()` в Python используется для удаления пробелов и других символов из начала и конца строки. Этот метод очень удобен при работе с текстовыми данными, когда необходимо очистить строку от лишних символов. \n",
            "\n",
            "Вот как работает метод `strip()`:\n",
            "- Если не указаны аргументы, метод удаляет все пробелы и символы переноса строки (перевода строки) с начала и конца строки.\n",
            "- Если указан аргумент, то метод удаляет все вхождения этого аргумента с начала и конца строки.\n",
            "\n",
            "Примеры использования метода `strip()`:\n",
            "\n",
            "```python\n",
            "text = \"   Hello, World!   \"\n",
            "print(text.strip())  # Вывод: \"Hello, World!\"\n",
            "\n",
            "text = \"+++Python+++\"\n",
            "print(text.strip('+'))  # Вывод: \"Python\"\n",
            "```\n",
            "\n",
            "Также стоит отметить, что помимо метода `strip()`, существуют методы `lstrip()` и `rstrip()`. \n",
            "- Метод `lstrip()` удаляет пробелы и символы только с левой стороны строки.\n",
            "- Метод `rstrip()` удаляет пробелы и символы только с правой стороны строки.\n",
            "\n",
            "Примеры использования методов `lstrip()` и `rstrip()`:\n",
            "\n",
            "```python\n",
            "text = \"   Hello, World!   \"\n",
            "print(text.lstrip())  # Вывод: \"Hello, World!   \"\n",
            "\n",
            "text = \"   Hello, World!   \"\n",
            "print(text.rstrip())  # Вывод: \"   Hello, World!\"\n",
            "```\n",
            "\n",
            "Таким образом, методы `strip()`, `lstrip()` и `rstrip()` являются полезными инструментами при работе с текстовыми данными в Python.\n"
          ]
        }
      ]
    },
    {
      "cell_type": "markdown",
      "source": [
        "# **4. Циклы: for и while**"
      ],
      "metadata": {
        "id": "TzWm4E_aLGCf"
      }
    },
    {
      "cell_type": "markdown",
      "source": [
        "## Циклы for и while"
      ],
      "metadata": {
        "id": "GMYPMaU9LOdF"
      }
    },
    {
      "cell_type": "markdown",
      "source": [
        "**Циклы** позволяют повторять выполнение определенного блока кода несколько раз, что дает возможность автоматически обрабатывать множество элементов или выполнять задачи с заранее неизвестным количеством итераций."
      ],
      "metadata": {
        "id": "0MOs6lapQH8t"
      }
    },
    {
      "cell_type": "markdown",
      "source": [
        "### **Цикл for**"
      ],
      "metadata": {
        "id": "xTbfOykxRlXu"
      }
    },
    {
      "cell_type": "markdown",
      "source": [
        "- Используется для прохода по элементам коллекции, таким как список, строка или диапазон чисел, и выполнения заданного блока кода для каждого элемента.\n",
        "- **Общая структура**:\n",
        "\n",
        "```python\n",
        "for элемент в последовательности:\n",
        "    # блок кода, который выполняется для каждого элемента\n"
      ],
      "metadata": {
        "id": "JA2YWNVZOCFt"
      }
    },
    {
      "cell_type": "markdown",
      "source": [
        "**Пояснение:**\n",
        "- элемент — переменная, которая будет принимать значение каждого элемента в последовательности.\n",
        "- последовательность — это коллекция элементов (например, список, строка или диапазон чисел), по которым будет проходить цикл."
      ],
      "metadata": {
        "id": "XT3OuX9WOimb"
      }
    },
    {
      "cell_type": "markdown",
      "source": [
        "Особенности цикла for:\n",
        "\n",
        "- Используется для итерации по заранее определенной последовательности элементов."
      ],
      "metadata": {
        "id": "Z7zuhZQVQs1k"
      }
    },
    {
      "cell_type": "markdown",
      "source": [
        "### Примеры использования"
      ],
      "metadata": {
        "id": "Adrc9kP9R7oQ"
      }
    },
    {
      "cell_type": "code",
      "source": [
        "# Цикл for: проходим по элементам списка\n",
        "numbers = [1, 2, 3, 4, 5]  # Инициализируем список чисел\n",
        "print(\"Цикл for:\")\n",
        "for number in numbers:  # Проходим по каждому элементу списка\n",
        "    print(number)  # Выводим текущее число из списка"
      ],
      "metadata": {
        "colab": {
          "base_uri": "https://localhost:8080/"
        },
        "id": "At30bUDASi9t",
        "outputId": "a4b56e81-3746-444b-9b5d-fda41de5b8aa"
      },
      "execution_count": null,
      "outputs": [
        {
          "output_type": "stream",
          "name": "stdout",
          "text": [
            "Цикл for:\n",
            "1\n",
            "2\n",
            "3\n",
            "4\n",
            "5\n"
          ]
        }
      ]
    },
    {
      "cell_type": "code",
      "source": [
        "# Цикл for: проходим по символам строки\n",
        "text = \"Python\"  # Инициализируем строку\n",
        "print(\"Цикл for (по строке):\")\n",
        "for char in text:  # Проходим по каждому символу строки\n",
        "    print(char)  # Выводим текущий символ из строки"
      ],
      "metadata": {
        "colab": {
          "base_uri": "https://localhost:8080/"
        },
        "id": "8vXE6mPDRZPe",
        "outputId": "31e574c3-1cdb-4520-b979-f54187577a93"
      },
      "execution_count": null,
      "outputs": [
        {
          "output_type": "stream",
          "name": "stdout",
          "text": [
            "Цикл for (по строке):\n",
            "P\n",
            "y\n",
            "t\n",
            "h\n",
            "o\n",
            "n\n"
          ]
        }
      ]
    },
    {
      "cell_type": "markdown",
      "source": [
        "### **Цикл while**"
      ],
      "metadata": {
        "id": "CV_mzXRtRsjm"
      }
    },
    {
      "cell_type": "markdown",
      "source": [
        "- Повторяет выполнение блока кода до тех пор, пока выполняется определенное логическое условие.\n",
        "- **Общая структура**:\n",
        "\n",
        "```python\n",
        "while условие:\n",
        "    # блок кода, который выполняется, пока условие истинно\n"
      ],
      "metadata": {
        "id": "ViqfEw3WPY6B"
      }
    },
    {
      "cell_type": "markdown",
      "source": [
        "Пояснение:\n",
        "- условие — это выражение, которое проверяется перед каждой итерацией цикла.\n",
        "- Пока условие истинно (True), цикл будет повторяться."
      ],
      "metadata": {
        "id": "qIvb_xBOQRi4"
      }
    },
    {
      "cell_type": "markdown",
      "source": [
        "Особенности цикла while:\n",
        "- Подходит для задач с заранее неизвестным количеством итераций."
      ],
      "metadata": {
        "id": "F4_GfI3SQ989"
      }
    },
    {
      "cell_type": "markdown",
      "source": [
        "### Примеры использования"
      ],
      "metadata": {
        "id": "2HFZ0LHuRfTn"
      }
    },
    {
      "cell_type": "code",
      "source": [
        "# Цикл while: повторяем выполнение кода, пока счетчик не станет равным нулю\n",
        "counter = 5  # Инициализируем счетчик значением 5\n",
        "print(\"Цикл while:\")\n",
        "while counter > 0:  # Продолжаем выполнение цикла, пока значение счетчика больше 0\n",
        "    print(f\"Счетчик: {counter}\")  # Выводим текущее значение счетчика\n",
        "    counter -= 1  # Уменьшаем значение счетчика на 1 при каждой итерации\n"
      ],
      "metadata": {
        "colab": {
          "base_uri": "https://localhost:8080/"
        },
        "id": "ce5L5LyeR3_l",
        "outputId": "9cab2a6a-f13f-49f2-835c-0bc37a5e85d2"
      },
      "execution_count": null,
      "outputs": [
        {
          "output_type": "stream",
          "name": "stdout",
          "text": [
            "Цикл while:\n",
            "Счетчик: 5\n",
            "Счетчик: 4\n",
            "Счетчик: 3\n",
            "Счетчик: 2\n",
            "Счетчик: 1\n"
          ]
        }
      ]
    },
    {
      "cell_type": "code",
      "source": [
        "# Цикл while: выполняется, пока не введен правильный пароль\n",
        "password = \"qwerty\"  # Устанавливаем правильный пароль\n",
        "attempt = \"\"  # Переменная для попыток ввода пароля\n",
        "print(\"\\nЦикл while (проверка пароля):\")\n",
        "while attempt != password:  # Цикл продолжается, пока введенный пароль не совпадает с правильным\n",
        "    attempt = input(\"Введите пароль: \")  # Получаем ввод пользователя\n",
        "print(\"Пароль введен правильно.\")  # Сообщение выводится после правильного ввода пароля"
      ],
      "metadata": {
        "colab": {
          "base_uri": "https://localhost:8080/"
        },
        "id": "QlafYte8SP6l",
        "outputId": "70ad1260-c904-4083-8962-27a2737d4aba"
      },
      "execution_count": null,
      "outputs": [
        {
          "output_type": "stream",
          "name": "stdout",
          "text": [
            "\n",
            "Цикл while (проверка пароля):\n",
            "Введите пароль: 11111\n",
            "Введите пароль: qqqqq\n",
            "Введите пароль: qwerty\n",
            "Пароль введен правильно.\n"
          ]
        }
      ]
    },
    {
      "cell_type": "markdown",
      "source": [
        "## **Операторы `break` и `continue`**"
      ],
      "metadata": {
        "id": "TYEDmOWxVRut"
      }
    },
    {
      "cell_type": "markdown",
      "source": [
        "### **Оператор break**"
      ],
      "metadata": {
        "id": "G5KyjNmcYITS"
      }
    },
    {
      "cell_type": "markdown",
      "source": [
        "- Прерывает выполнение текущего цикла и выводит программу из цикла досрочно.\n",
        "- Используется, когда нужно немедленно остановить цикл при выполнении определенного условия.\n",
        "- **Общая структура**:\n",
        "\n",
        "```python\n",
        "for элемент в последовательности:\n",
        "    if условие:\n",
        "        break  # завершает выполнение цикла\n",
        "    # блок кода, который выполняется, пока не выполнено условие break\n"
      ],
      "metadata": {
        "id": "MojRfAhRVP3j"
      }
    },
    {
      "cell_type": "markdown",
      "source": [
        "### Пример использования"
      ],
      "metadata": {
        "id": "KeGuxfeQX3e0"
      }
    },
    {
      "cell_type": "code",
      "source": [
        "# Пример оператора break в цикле for\n",
        "print(\"Пример break:\")  # Заголовок для вывода\n",
        "for number in range(1, 11):  # Цикл for проходит по числам от 1 до 10\n",
        "    if number == 5:  # Проверяем, равно ли текущее число 5\n",
        "        break  # Прерываем выполнение цикла, если число равно 5\n",
        "    print(number)  # Выводим текущее число, если условие выше не выполнено\n"
      ],
      "metadata": {
        "colab": {
          "base_uri": "https://localhost:8080/"
        },
        "id": "OBunDb_rX15H",
        "outputId": "a41128b4-1a0d-4191-9874-eddef020f312"
      },
      "execution_count": null,
      "outputs": [
        {
          "output_type": "stream",
          "name": "stdout",
          "text": [
            "Пример break:\n",
            "1\n",
            "2\n",
            "3\n",
            "4\n"
          ]
        }
      ]
    },
    {
      "cell_type": "markdown",
      "source": [
        "### **Оператор continue**"
      ],
      "metadata": {
        "id": "O5g-1TUSYfsH"
      }
    },
    {
      "cell_type": "markdown",
      "source": [
        "- Прерывает текущую итерацию цикла и переходит к следующей итерации.\n",
        "- Позволяет пропустить оставшийся код текущей итерации и начать новую.\n",
        "- **Общая структура**:\n",
        "\n",
        "```python\n",
        "while условие:\n",
        "    if другое_условие:\n",
        "        continue  # пропускает оставшийся код в текущей итерации\n",
        "    # блок кода, который выполняется, если не выполнено условие continue\n"
      ],
      "metadata": {
        "id": "2SVs2iWNYmIz"
      }
    },
    {
      "cell_type": "markdown",
      "source": [
        "### Примеры использования"
      ],
      "metadata": {
        "id": "_iJFypg6XtTa"
      }
    },
    {
      "cell_type": "code",
      "source": [
        "# Пример оператора continue в цикле while\n",
        "print(\"\\nПример continue:\")  # Заголовок для вывода\n",
        "counter = 0  # Инициализируем счетчик значением 0\n",
        "while counter < 10:  # Выполняем цикл, пока счетчик меньше 10\n",
        "    counter += 1  # Увеличиваем значение счетчика на 1\n",
        "    if counter % 2 == 0:  # Проверяем, является ли значение четным\n",
        "        continue  # Пропускаем оставшийся код в текущей итерации, если значение четное\n",
        "    print(counter)  # Выводим значение счетчика, если условие выше не выполнено"
      ],
      "metadata": {
        "colab": {
          "base_uri": "https://localhost:8080/"
        },
        "id": "TV8IFj3ZViLW",
        "outputId": "64065884-0d42-495d-e901-80775b3f4f4d"
      },
      "execution_count": null,
      "outputs": [
        {
          "output_type": "stream",
          "name": "stdout",
          "text": [
            "\n",
            "Пример continue:\n",
            "1\n",
            "3\n",
            "5\n",
            "7\n",
            "9\n"
          ]
        }
      ]
    },
    {
      "cell_type": "code",
      "source": [
        "# @title Задать вопрос нейро-куратору\n",
        "\n",
        "question = \"Напиши пример кода с бесконечным циклом?\" #@param {type:\"string\"}\n",
        "url = \"http://31.129.102.77:80/curatorv1/qa\"\n",
        "headers = {\"Content-Type\": \"application/json\",\n",
        "    \"Authorization\": os.environ[\"UII_API_KEY\"]\n",
        "    }\n",
        "data = {\n",
        "    \"question\": question,\n",
        "    \"user_id\": user_id_seed,\n",
        "    \"topic\": ''\n",
        "}\n",
        "\n",
        "response = requests.post(url, headers=headers, data=json.dumps(data))\n",
        "print(json.loads(response.text))"
      ],
      "metadata": {
        "colab": {
          "base_uri": "https://localhost:8080/"
        },
        "cellView": "form",
        "outputId": "1e61af29-4e5b-4181-ad15-3748ab77bd4b",
        "id": "LPwzzdYE8op2"
      },
      "execution_count": null,
      "outputs": [
        {
          "output_type": "stream",
          "name": "stdout",
          "text": [
            "Для создания бесконечного цикла в Python можно использовать конструкцию с помощью ключевого слова `while`. Вот пример кода с бесконечным циклом:\n",
            "\n",
            "```python\n",
            "while True:\n",
            "    print(\"Этот цикл будет выполняться бесконечно\")\n",
            "```\n",
            "\n",
            "В данном примере, условие `True` всегда истинно, поэтому цикл будет выполняться бесконечно, выводя на экран сообщение \"Этот цикл будет выполняться бесконечно\". \n",
            "\n",
            "Чтобы выйти из бесконечного цикла, можно использовать оператор `break` внутри цикла. Например, можно добавить условие для выхода из цикла:\n",
            "\n",
            "```python\n",
            "while True:\n",
            "    user_input = input(\"Введите 'exit' для выхода: \")\n",
            "    if user_input == 'exit':\n",
            "        break\n",
            "```\n",
            "\n",
            "В этом случае, цикл будет выполняться до тех пор, пока пользователь не введет 'exit', после чего программа выйдет из цикла.\n"
          ]
        }
      ]
    },
    {
      "cell_type": "markdown",
      "source": [
        "## **Практическое задание: Программа для расчета суммы четных чисел**"
      ],
      "metadata": {
        "id": "H0MBNc7Md61e"
      }
    },
    {
      "cell_type": "markdown",
      "source": [
        "### Задание"
      ],
      "metadata": {
        "id": "sMh6DPzzd-3H"
      }
    },
    {
      "cell_type": "markdown",
      "source": [
        "Создайте программу, которая будет принимать диапазон чисел и вычислять сумму всех четных чисел в этом диапазоне.\n",
        "\n",
        "**Задачи**:\n",
        "\n",
        "1. Введите два числа, обозначающих начало и конец диапазона.\n",
        "2. Используйте цикл `for` для прохождения по каждому числу в диапазоне.\n",
        "3. Пропустите нечетные числа с помощью оператора `continue`.\n",
        "4. Посчитайте сумму всех четных чисел и выведите результат."
      ],
      "metadata": {
        "id": "R3s0kmAXd424"
      }
    },
    {
      "cell_type": "markdown",
      "source": [
        "### Решение"
      ],
      "metadata": {
        "id": "7Mq4FpI4famG"
      }
    },
    {
      "cell_type": "code",
      "source": [
        "# Вводим начало и конец диапазона\n",
        "start = int(input(\"Введите начало диапазона: \"))\n",
        "end = int(input(\"Введите конец диапазона: \"))"
      ],
      "metadata": {
        "colab": {
          "base_uri": "https://localhost:8080/"
        },
        "id": "IZgUxziAXmr9",
        "outputId": "72b74a0d-9a77-49fb-9553-6bb131129e57"
      },
      "execution_count": null,
      "outputs": [
        {
          "name": "stdout",
          "output_type": "stream",
          "text": [
            "Введите начало диапазона: 2\n",
            "Введите конец диапазона: 11\n"
          ]
        }
      ]
    },
    {
      "cell_type": "code",
      "source": [
        "# Инициализируем переменную для хранения суммы\n",
        "even_sum = 0\n",
        "\n",
        "# Используем цикл for для прохождения по диапазону\n",
        "for number in range(start, end + 1):\n",
        "    if number % 2 != 0:\n",
        "        continue  # Пропускаем нечетные числа\n",
        "    even_sum += number  # Добавляем четное число к сумме\n",
        "\n",
        "# Выводим результат\n",
        "print(f\"Сумма всех четных чисел в диапазоне от {start} до {end} составляет: {even_sum}\")"
      ],
      "metadata": {
        "colab": {
          "base_uri": "https://localhost:8080/"
        },
        "id": "ZDp5JQgWefbF",
        "outputId": "460790ad-4a43-4e8a-8e87-d107bcbfc15c"
      },
      "execution_count": null,
      "outputs": [
        {
          "output_type": "stream",
          "name": "stdout",
          "text": [
            "Сумма всех четных чисел в диапазоне от 2 до 11 составляет: 30\n"
          ]
        }
      ]
    },
    {
      "cell_type": "markdown",
      "source": [
        "**Примечание:**\n",
        "  - **Встроенная функция `range`** возвращает последовательность чисел от начального (`start`) до конечного (`end`) значения, но не включает значение `end`.\n",
        "  - Чтобы включить конечное значение, нужно указать `end + 1`.\n"
      ],
      "metadata": {
        "id": "uVRE88q0Z8R-"
      }
    },
    {
      "cell_type": "code",
      "source": [
        "# @title Задать вопрос нейро-куратору\n",
        "\n",
        "question = \"Что значит Инициализируем переменную?\" #@param {type:\"string\"}\n",
        "url = \"http://31.129.102.77:80/curatorv1/qa\"\n",
        "headers = {\"Content-Type\": \"application/json\",\n",
        "    \"Authorization\": os.environ[\"UII_API_KEY\"]\n",
        "    }\n",
        "data = {\n",
        "    \"question\": question,\n",
        "    \"user_id\": user_id_seed,\n",
        "    \"topic\": ''\n",
        "}\n",
        "\n",
        "response = requests.post(url, headers=headers, data=json.dumps(data))\n",
        "print(json.loads(response.text))"
      ],
      "metadata": {
        "colab": {
          "base_uri": "https://localhost:8080/"
        },
        "cellView": "form",
        "outputId": "aa5d17ad-12db-47e4-8901-543261ae7f51",
        "id": "4znx6OvM82Ga"
      },
      "execution_count": null,
      "outputs": [
        {
          "output_type": "stream",
          "name": "stdout",
          "text": [
            "Инициализация переменной - это процесс присвоения начального значения переменной в программировании. При инициализации переменной вы задаете ей начальное значение, которое может быть числом, строкой, булевым значением или другим типом данных, в зависимости от языка программирования.\n",
            "\n",
            "Пример инициализации переменной в Python:\n",
            "```python\n",
            "# Инициализация переменной x со значением 5\n",
            "x = 5\n",
            "```\n",
            "\n",
            "В данном примере переменная `x` инициализируется значением 5. После инициализации переменной, вы можете использовать ее в программе для хранения данных и выполнения операций.\n",
            "\n",
            "Инициализация переменной важна, так как она позволяет вашей программе работать с данными и выполнять различные операции с этими данными.\n"
          ]
        }
      ]
    },
    {
      "cell_type": "code",
      "source": [
        "# @title Задать вопрос нейро-куратору\n",
        "\n",
        "question = \"Как сделать сложение int и str переменных?\" #@param {type:\"string\"}\n",
        "url = \"http://31.129.102.77:80/curatorv1/qa\"\n",
        "headers = {\"Content-Type\": \"application/json\",\n",
        "    \"Authorization\": os.environ[\"UII_API_KEY\"]\n",
        "    }\n",
        "data = {\n",
        "    \"question\": question,\n",
        "    \"user_id\": user_id_seed,\n",
        "    \"topic\": ''\n",
        "}\n",
        "\n",
        "response = requests.post(url, headers=headers, data=json.dumps(data))\n",
        "print(json.loads(response.text))"
      ],
      "metadata": {
        "colab": {
          "base_uri": "https://localhost:8080/"
        },
        "cellView": "form",
        "outputId": "f6a9c980-ca45-4b9e-a039-52fe9f55e640",
        "id": "0Wq_IofnYUbf"
      },
      "execution_count": null,
      "outputs": [
        {
          "output_type": "stream",
          "name": "stdout",
          "text": [
            "Для выполнения сложения переменных разных типов, таких как int (целое число) и str (строка), необходимо преобразовать строковую переменную в целое число. В Python это можно сделать с помощью функции `int()`. \n",
            "\n",
            "Вот пример кода, демонстрирующий сложение int и str переменных:\n",
            "\n",
            "```python\n",
            "# Объявляем переменные\n",
            "num = 10\n",
            "str_num = \"5\"\n",
            "\n",
            "# Преобразуем строковую переменную в целое число\n",
            "int_str_num = int(str_num)\n",
            "\n",
            "# Выполняем сложение\n",
            "result = num + int_str_num\n",
            "\n",
            "# Выводим результат\n",
            "print(result)\n",
            "```\n",
            "\n",
            "В этом примере мы объявляем переменную `num` как целое число 10, а переменную `str_num` как строку \"5\". Затем мы преобразуем `str_num` в целое число `int_str_num` с помощью функции `int()`. После этого мы складываем `num` и `int_str_num`, результатом будет целое число 15.\n"
          ]
        }
      ]
    },
    {
      "cell_type": "markdown",
      "source": [
        "## **Заключение**"
      ],
      "metadata": {
        "id": "ic3SjzrAhxUZ"
      }
    },
    {
      "cell_type": "markdown",
      "source": [
        "В этом уроке мы познакомились с базовыми структурами языка Python. Рассмотрели основные элементы синтаксиса, переменные и типы данных, изучили принципы работы с условиями (`if-else`) и циклами (`for` и `while`). Также разобрали такие инструменты управления, как операторы `break` и `continue`.\n",
        "\n",
        "В ходе практических заданий мы:\n",
        "- Запустили первую программу \"Hello, World!\" в Google Colab.\n",
        "- Создали программу для выполнения арифметических операций.\n",
        "- Проверили навыки с условиями в программе, определяющей допустимость водить автомобиль.\n",
        "- Реализовали задачу по расчёту суммы четных чисел в заданном диапазоне с использованием циклов."
      ],
      "metadata": {
        "id": "bAHg4HYvhvyz"
      }
    },
    {
      "cell_type": "markdown",
      "source": [
        "### Полезные материалы:"
      ],
      "metadata": {
        "id": "mw_HeBEOh7JQ"
      }
    },
    {
      "cell_type": "markdown",
      "source": [
        "- [Документация по Python](https://docs.python.org/3/)\n",
        "- [PEP 8 — Руководство по стилю написания кода на Python](https://peps.python.org/pep-0008/)\n",
        "- [Google Colab: руководство для начинающих](https://research.google.com/colaboratory/)\n",
        "\n",
        "Эти ресурсы помогут вам углубить свои знания о языке и писать более эффективный, чистый и понятный код"
      ],
      "metadata": {
        "id": "dbFMupWKh-cJ"
      }
    },
    {
      "cell_type": "markdown",
      "source": [
        "# **Вопросы для проверки**"
      ],
      "metadata": {
        "id": "sGR0NVR6y5_r"
      }
    },
    {
      "cell_type": "code",
      "source": [
        "#@title Вопросы для проверки знаний\n",
        "\n",
        "import pandas as pd\n",
        "import random\n",
        "\n",
        "!wget -q -O 'AutoKeras_Quiz_Questions_Combined.csv' \"https://drive.google.com/uc?id=1LKvnAe9EOPQpPxDQfbVlSnR06XWhnYwA\"\n",
        "# Загрузка датафрейма с вопросами и ответами\n",
        "df = pd.read_csv('/content/AutoKeras_Quiz_Questions_Combined.csv')\n",
        "\n",
        "# Создание списка индексов вопросов\n",
        "question_indices = list(range(len(df)))\n",
        "\n",
        "# Перемешивание индексов для случайного выбора\n",
        "random.shuffle(question_indices)\n",
        "\n",
        "# Инициализация переменной для подсчета правильных ответов\n",
        "correct_answers = 0\n",
        "\n",
        "# Предоставление вопросов и проверка ответов\n",
        "for idx in question_indices[:6]:\n",
        "    question = df.loc[idx, 'Questions with Options']\n",
        "    correct_answer = df.loc[idx, 'Correct Answer']\n",
        "    print(question)\n",
        "    user_answer = input(\"Введите ваш ответ: \")\n",
        "\n",
        "    # Проверка правильности ответа\n",
        "    if user_answer.lower() == correct_answer.lower():\n",
        "        correct_answers += 1\n",
        "        print(\"Правильно!\")\n",
        "    else:\n",
        "        print(f\"Неправильно. Правильный ответ: {correct_answer}\")\n",
        "\n",
        "# Вывод результата количества правильных ответов и общего количества вопросов\n",
        "print(f\"Правильно {correct_answers} из 6\")\n"
      ],
      "metadata": {
        "colab": {
          "base_uri": "https://localhost:8080/"
        },
        "cellView": "form",
        "id": "50o0LPU7fG3I",
        "outputId": "653d6c6f-3558-4c39-b2bd-bd86c41c4921"
      },
      "execution_count": null,
      "outputs": [
        {
          "output_type": "stream",
          "name": "stdout",
          "text": [
            "9. Что делает оператор `!=` в Python? A) Проверяет на равенство B) Проверяет на неравенство C) Присваивает значение\n",
            "Введите ваш ответ: B\n",
            "Правильно!\n",
            "8. Какая функция Python используется для вывода данных на экран? A) input() B) print() C) type()\n",
            "Введите ваш ответ: A\n",
            "Неправильно. Правильный ответ: B\n",
            "15. Как называется цикл, который использует предварительно определенную последовательность элементов в Python? A) while B) for C) do-while\n",
            "Введите ваш ответ: B\n",
            "Правильно!\n",
            "2. В каком году был впервые выпущен Python? A) 1989 год B) 1991 год C) 1995 год\n",
            "Введите ваш ответ: B\n",
            "Правильно!\n",
            "13. Какая функция позволяет пользователю вводить данные в программу на Python? A) print() B) input() C) type()\n",
            "Введите ваш ответ: A\n",
            "Неправильно. Правильный ответ: B\n",
            "3. Что вдохновило название языка Python? A) Тип данных B) Рептилия C) Британское комедийное шоу\n",
            "Введите ваш ответ: B\n",
            "Неправильно. Правильный ответ: C\n",
            "Правильно 3 из 6\n"
          ]
        }
      ]
    },
    {
      "cell_type": "code",
      "source": [
        "#@title Вопросы для проверки знаний\n",
        "\n",
        "import pandas as pd\n",
        "import random\n",
        "\n",
        "!wget -q -O 'AutoKeras_Quiz_Questions_Combined.csv' \"https://drive.google.com/uc?id=1LKvnAe9EOPQpPxDQfbVlSnR06XWhnYwA\"\n",
        "# Загрузка датафрейма с вопросами и ответами\n",
        "df = pd.read_csv('/content/AutoKeras_Quiz_Questions_Combined.csv')\n",
        "\n",
        "# Создание списка индексов вопросов\n",
        "question_indices = list(range(len(df)))\n",
        "\n",
        "# Перемешивание индексов для случайного выбора\n",
        "random.shuffle(question_indices)\n",
        "\n",
        "# Инициализация переменной для подсчета правильных ответов\n",
        "correct_answers = 0\n",
        "\n",
        "# Предоставление вопросов и проверка ответов\n",
        "for idx in question_indices[:6]:\n",
        "    question = df.loc[idx, 'Questions with Options']\n",
        "    correct_answer = df.loc[idx, 'Correct Answer']\n",
        "    print(question)\n",
        "    user_answer = input(\"Введите ваш ответ: \")\n",
        "\n",
        "    # Проверка правильности ответа\n",
        "    if user_answer.lower() == correct_answer.lower():\n",
        "        correct_answers += 1\n",
        "        print(\"Правильно!\")\n",
        "    else:\n",
        "        print(f\"Неправильно. Правильный ответ: {correct_answer}\")\n",
        "\n",
        "# Вывод результата количества правильных ответов и общего количества вопросов\n",
        "print(f\"Правильно {correct_answers} из 6\")\n"
      ],
      "metadata": {
        "cellView": "form",
        "id": "0fbsC-ruacVm",
        "colab": {
          "base_uri": "https://localhost:8080/"
        },
        "outputId": "f0e8984e-24c6-4daa-e7a3-4ec8ac8174b1"
      },
      "execution_count": null,
      "outputs": [
        {
          "output_type": "stream",
          "name": "stdout",
          "text": [
            "17. Какой метод строк в Python используется для преобразования всех символов в нижний регистр? A) lower() B) upper() C) split()\n",
            "Введите ваш ответ: A\n",
            "Правильно!\n",
            "29. Как в Python осуществляется конкатенация строк? A) С помощью оператора + B) С помощью метода concatenate() C) С помощью функции join()\n",
            "Введите ваш ответ: A\n",
            "Правильно!\n",
            "25. Какой результат выполнения следующего кода: `print(\"Hello, \" + \"world!\")`? A) Hello world! B) Hello, world! C) SyntaxError\n",
            "Введите ваш ответ: B\n",
            "Правильно!\n",
            "7. Какой из этих инструментов не относится к среде разработки Python? A) PyCharm B) VSCode C) Excel\n",
            "Введите ваш ответ: C\n",
            "Правильно!\n",
            "5. Какая библиотека Python предназначена для построения графиков? A) TensorFlow B) Pygame C) Matplotlib\n",
            "Введите ваш ответ: C\n",
            "Правильно!\n",
            "11. Какой оператор Python используется для выполнения целочисленного деления? A) / B) * C) //\n",
            "Введите ваш ответ: C\n",
            "Правильно!\n",
            "Правильно 6 из 6\n"
          ]
        }
      ]
    },
    {
      "cell_type": "markdown",
      "source": [
        "# **Домашнее задание**"
      ],
      "metadata": {
        "id": "Y8eb0kpScz5I"
      }
    },
    {
      "cell_type": "markdown",
      "source": [
        "Выполните задание https://colab.research.google.com/drive/1rQ0hWvY1nXRw9RbKp5SXrajlj3jNa1Wm?usp=sharing и сохраните в файле с расширением .ipynb"
      ],
      "metadata": {
        "id": "EeWAA1hYdFHC"
      }
    },
    {
      "cell_type": "markdown",
      "source": [
        "# **Проверка домашнего задания**\n",
        "(без ошибок)"
      ],
      "metadata": {
        "id": "kh9ntKtSqBPm"
      }
    },
    {
      "cell_type": "code",
      "source": [
        "#@title Выбираем файл с выполненным домашним заданием\n",
        "from google.colab import files\n",
        "\n",
        "# Загружаем файлы\n",
        "uploaded = files.upload()\n",
        "\n",
        "# Перебираем все загруженные файлы\n",
        "for filename in uploaded.keys():\n",
        "    print('Файл \"{name}\" загружен!'.format(name=filename))\n",
        "    # Открываем файл на чтение\n",
        "    with open(filename, 'r') as file:\n",
        "        # Читаем содержимое файла и сохраняем его в переменную\n",
        "        resheniye = file.read()\n"
      ],
      "metadata": {
        "colab": {
          "base_uri": "https://localhost:8080/",
          "height": 90
        },
        "id": "qoc1wAqx7TJH",
        "outputId": "df55f2e4-f522-4321-a90d-2d66d96c9f2e",
        "cellView": "form"
      },
      "execution_count": null,
      "outputs": [
        {
          "output_type": "display_data",
          "data": {
            "text/plain": [
              "<IPython.core.display.HTML object>"
            ],
            "text/html": [
              "\n",
              "     <input type=\"file\" id=\"files-0d3398f7-6c55-4842-a532-d1b5b3c9b85c\" name=\"files[]\" multiple disabled\n",
              "        style=\"border:none\" />\n",
              "     <output id=\"result-0d3398f7-6c55-4842-a532-d1b5b3c9b85c\">\n",
              "      Upload widget is only available when the cell has been executed in the\n",
              "      current browser session. Please rerun this cell to enable.\n",
              "      </output>\n",
              "      <script>// Copyright 2017 Google LLC\n",
              "//\n",
              "// Licensed under the Apache License, Version 2.0 (the \"License\");\n",
              "// you may not use this file except in compliance with the License.\n",
              "// You may obtain a copy of the License at\n",
              "//\n",
              "//      http://www.apache.org/licenses/LICENSE-2.0\n",
              "//\n",
              "// Unless required by applicable law or agreed to in writing, software\n",
              "// distributed under the License is distributed on an \"AS IS\" BASIS,\n",
              "// WITHOUT WARRANTIES OR CONDITIONS OF ANY KIND, either express or implied.\n",
              "// See the License for the specific language governing permissions and\n",
              "// limitations under the License.\n",
              "\n",
              "/**\n",
              " * @fileoverview Helpers for google.colab Python module.\n",
              " */\n",
              "(function(scope) {\n",
              "function span(text, styleAttributes = {}) {\n",
              "  const element = document.createElement('span');\n",
              "  element.textContent = text;\n",
              "  for (const key of Object.keys(styleAttributes)) {\n",
              "    element.style[key] = styleAttributes[key];\n",
              "  }\n",
              "  return element;\n",
              "}\n",
              "\n",
              "// Max number of bytes which will be uploaded at a time.\n",
              "const MAX_PAYLOAD_SIZE = 100 * 1024;\n",
              "\n",
              "function _uploadFiles(inputId, outputId) {\n",
              "  const steps = uploadFilesStep(inputId, outputId);\n",
              "  const outputElement = document.getElementById(outputId);\n",
              "  // Cache steps on the outputElement to make it available for the next call\n",
              "  // to uploadFilesContinue from Python.\n",
              "  outputElement.steps = steps;\n",
              "\n",
              "  return _uploadFilesContinue(outputId);\n",
              "}\n",
              "\n",
              "// This is roughly an async generator (not supported in the browser yet),\n",
              "// where there are multiple asynchronous steps and the Python side is going\n",
              "// to poll for completion of each step.\n",
              "// This uses a Promise to block the python side on completion of each step,\n",
              "// then passes the result of the previous step as the input to the next step.\n",
              "function _uploadFilesContinue(outputId) {\n",
              "  const outputElement = document.getElementById(outputId);\n",
              "  const steps = outputElement.steps;\n",
              "\n",
              "  const next = steps.next(outputElement.lastPromiseValue);\n",
              "  return Promise.resolve(next.value.promise).then((value) => {\n",
              "    // Cache the last promise value to make it available to the next\n",
              "    // step of the generator.\n",
              "    outputElement.lastPromiseValue = value;\n",
              "    return next.value.response;\n",
              "  });\n",
              "}\n",
              "\n",
              "/**\n",
              " * Generator function which is called between each async step of the upload\n",
              " * process.\n",
              " * @param {string} inputId Element ID of the input file picker element.\n",
              " * @param {string} outputId Element ID of the output display.\n",
              " * @return {!Iterable<!Object>} Iterable of next steps.\n",
              " */\n",
              "function* uploadFilesStep(inputId, outputId) {\n",
              "  const inputElement = document.getElementById(inputId);\n",
              "  inputElement.disabled = false;\n",
              "\n",
              "  const outputElement = document.getElementById(outputId);\n",
              "  outputElement.innerHTML = '';\n",
              "\n",
              "  const pickedPromise = new Promise((resolve) => {\n",
              "    inputElement.addEventListener('change', (e) => {\n",
              "      resolve(e.target.files);\n",
              "    });\n",
              "  });\n",
              "\n",
              "  const cancel = document.createElement('button');\n",
              "  inputElement.parentElement.appendChild(cancel);\n",
              "  cancel.textContent = 'Cancel upload';\n",
              "  const cancelPromise = new Promise((resolve) => {\n",
              "    cancel.onclick = () => {\n",
              "      resolve(null);\n",
              "    };\n",
              "  });\n",
              "\n",
              "  // Wait for the user to pick the files.\n",
              "  const files = yield {\n",
              "    promise: Promise.race([pickedPromise, cancelPromise]),\n",
              "    response: {\n",
              "      action: 'starting',\n",
              "    }\n",
              "  };\n",
              "\n",
              "  cancel.remove();\n",
              "\n",
              "  // Disable the input element since further picks are not allowed.\n",
              "  inputElement.disabled = true;\n",
              "\n",
              "  if (!files) {\n",
              "    return {\n",
              "      response: {\n",
              "        action: 'complete',\n",
              "      }\n",
              "    };\n",
              "  }\n",
              "\n",
              "  for (const file of files) {\n",
              "    const li = document.createElement('li');\n",
              "    li.append(span(file.name, {fontWeight: 'bold'}));\n",
              "    li.append(span(\n",
              "        `(${file.type || 'n/a'}) - ${file.size} bytes, ` +\n",
              "        `last modified: ${\n",
              "            file.lastModifiedDate ? file.lastModifiedDate.toLocaleDateString() :\n",
              "                                    'n/a'} - `));\n",
              "    const percent = span('0% done');\n",
              "    li.appendChild(percent);\n",
              "\n",
              "    outputElement.appendChild(li);\n",
              "\n",
              "    const fileDataPromise = new Promise((resolve) => {\n",
              "      const reader = new FileReader();\n",
              "      reader.onload = (e) => {\n",
              "        resolve(e.target.result);\n",
              "      };\n",
              "      reader.readAsArrayBuffer(file);\n",
              "    });\n",
              "    // Wait for the data to be ready.\n",
              "    let fileData = yield {\n",
              "      promise: fileDataPromise,\n",
              "      response: {\n",
              "        action: 'continue',\n",
              "      }\n",
              "    };\n",
              "\n",
              "    // Use a chunked sending to avoid message size limits. See b/62115660.\n",
              "    let position = 0;\n",
              "    do {\n",
              "      const length = Math.min(fileData.byteLength - position, MAX_PAYLOAD_SIZE);\n",
              "      const chunk = new Uint8Array(fileData, position, length);\n",
              "      position += length;\n",
              "\n",
              "      const base64 = btoa(String.fromCharCode.apply(null, chunk));\n",
              "      yield {\n",
              "        response: {\n",
              "          action: 'append',\n",
              "          file: file.name,\n",
              "          data: base64,\n",
              "        },\n",
              "      };\n",
              "\n",
              "      let percentDone = fileData.byteLength === 0 ?\n",
              "          100 :\n",
              "          Math.round((position / fileData.byteLength) * 100);\n",
              "      percent.textContent = `${percentDone}% done`;\n",
              "\n",
              "    } while (position < fileData.byteLength);\n",
              "  }\n",
              "\n",
              "  // All done.\n",
              "  yield {\n",
              "    response: {\n",
              "      action: 'complete',\n",
              "    }\n",
              "  };\n",
              "}\n",
              "\n",
              "scope.google = scope.google || {};\n",
              "scope.google.colab = scope.google.colab || {};\n",
              "scope.google.colab._files = {\n",
              "  _uploadFiles,\n",
              "  _uploadFilesContinue,\n",
              "};\n",
              "})(self);\n",
              "</script> "
            ]
          },
          "metadata": {}
        },
        {
          "output_type": "stream",
          "name": "stdout",
          "text": [
            "Saving ДЗ_РЕШЕНИЕ_Python_на_ChatGPT_День_1.ipynb to ДЗ_РЕШЕНИЕ_Python_на_ChatGPT_День_1.ipynb\n",
            "Файл \"ДЗ_РЕШЕНИЕ_Python_на_ChatGPT_День_1.ipynb\" загружен!\n"
          ]
        }
      ]
    },
    {
      "cell_type": "code",
      "source": [
        "#@title Запуск проверки\n",
        "import json\n",
        "import requests\n",
        "\n",
        "tema = \"Основы Python\"\n",
        "dz = '''Задачи уровня lite:\n",
        "1. Простой калькулятор:\n",
        "\n",
        "Напишите программу, которая запрашивает у пользователя два числа и выполняет их сложение. Выведите результат на экран.\n",
        "2. Проверка четности числа:\n",
        "\n",
        "Запросите у пользователя число и выведите на экран, является ли это число четным или нечетным.\n",
        "3. Подсчет количества слов:\n",
        "\n",
        "Напишите программу, которая просит пользователя ввести предложение и подсчитывает количество слов в этом предложении.\n",
        "4. Проверка на большее число:\n",
        "\n",
        "Напишите программу, которая запрашивает у пользователя два числа и выводит на экран большее из них. Если числа равны, программа должна сообщить, что числа равны.\n",
        "5. Сумма чисел до N:\n",
        "\n",
        "Напишите программу, которая просит пользователя ввести положительное число N, а затем вычисляет сумму всех чисел от 1 до N.\n",
        "Задачи уровня pro:\n",
        "6. Калькулятор времени:\n",
        "\n",
        "Напишите программу, которая запрашивает у пользователя количество секунд и преобразует их в часы, минуты и секунды. Выведите результат в формате \"ЧЧ:ММ:СС\".\n",
        "7. Расчет стоимости покупки:\n",
        "\n",
        "Напишите программу, которая запрашивает у пользователя стоимость одного товара и количество товаров, которое он хочет купить. Затем вычислите и выведите общую стоимость покупки.\n",
        "8. Конвертер валют:\n",
        "\n",
        "Напишите программу, которая запрашивает у пользователя сумму в долларах и конвертирует её в евро по текущему курсу (курс можно задать в программе как константу). Выведите результат конвертации.\n",
        "9. Проверка делимости чисел:\n",
        "\n",
        "Напишите программу, которая запрашивает у пользователя два числа и проверяет, делится ли первое число на второе без остатка. Программа должна выводить соответствующее сообщение о результате.\n",
        "10. Определение сезона по месяцу:\n",
        "\n",
        "Напишите программу, которая запрашивает у пользователя номер месяца (от 1 до 12) и выводит, к какому сезону этот месяц относится. Программа должна корректно обрабатывать неправильный ввод (например, если пользователь введет число за пределами диапазона).'''\n",
        "\n",
        "url = \"http://62.113.108.33/vebinar-v1/check_dz\"\n",
        "headers = {\"Content-Type\": \"application/json\",\n",
        "    \"Authorization\": '89e768ed-4bc1-4e12-9139-45023e2976a5'\n",
        "    }\n",
        "data = {\n",
        "    \"tema\": tema,\n",
        "    \"dz\": dz,\n",
        "    \"resheniye\": resheniye\n",
        "}\n",
        "\n",
        "response = requests.post(url, headers=headers, data=json.dumps(data))\n",
        "if response.status_code == 200:\n",
        "  print(json.loads(response.text)['choices'][0]['message']['content'])\n",
        "else:\n",
        "  print(\"Возникла ошибка:\", response.status_code)\n",
        "  print(response.text)"
      ],
      "metadata": {
        "id": "8s58WBXEeowC",
        "colab": {
          "base_uri": "https://localhost:8080/"
        },
        "outputId": "639dc43e-8386-4dbc-c01b-78e5544f27d0",
        "cellView": "form"
      },
      "execution_count": null,
      "outputs": [
        {
          "output_type": "stream",
          "name": "stdout",
          "text": [
            "### Оценка решения студента\n",
            "\n",
            "#### Задачи уровня lite:\n",
            "\n",
            "1. **Простой калькулятор:**\n",
            "   - Код работает корректно, запрашивает два числа, выполняет их сложение и выводит результат.\n",
            "   - Пример вывода: \"Введите первое число: 10\\nВведите второе число: 7\\nРезультат сложения: 17.0\"\n",
            "   - **Оценка: 10/10**\n",
            "\n",
            "2. **Проверка четности числа:**\n",
            "   - Код корректно проверяет четность числа и выводит соответствующее сообщение.\n",
            "   - Пример вывода: \"Введите число: 8\\nЧисло 8 является четным.\"\n",
            "   - **Оценка: 10/10**\n",
            "\n",
            "3. **Подсчет количества слов:**\n",
            "   - Код корректно подсчитывает количество слов в предложении.\n",
            "   - Пример вывода: \"Введите предложение: Ехал грека через реку\\nКоличество слов в предложении: 4\"\n",
            "   - **Оценка: 10/10**\n",
            "\n",
            "4. **Проверка на большее число:**\n",
            "   - Код корректно сравнивает два числа и выводит большее из них или сообщение о равенстве.\n",
            "   - Пример вывода: \"Введите первое число: 7\\nВведите второе число: 12\\nБольшее число: 12.0\"\n",
            "   - **Оценка: 10/10**\n",
            "\n",
            "5. **Сумма чисел до N:**\n",
            "   - Код корректно вычисляет сумму чисел от 1 до N, проверяет положительность числа.\n",
            "   - Пример вывода: \"Введите положительное число N: 5\\nСумма чисел от 1 до 5 : 15\"\n",
            "   - **Оценка: 10/10**\n",
            "\n",
            "#### Задачи уровня pro:\n",
            "\n",
            "6. **Калькулятор времени:**\n",
            "   - Код корректно преобразует количество секунд в часы, минуты и секунды.\n",
            "   - Пример вывода: \"Введите количество секунд: 2700\\nВремя: 00:45:00\"\n",
            "   - **Оценка: 10/10**\n",
            "\n",
            "7. **Расчет стоимости покупки:**\n",
            "   - Код корректно вычисляет общую стоимость покупки.\n",
            "   - Пример вывода: \"Введите стоимость одного товара: 2450\\nВведите количество товаров: 1200\\nОбщая стоимость покупки: 2940000.0\"\n",
            "   - **Оценка: 10/10**\n",
            "\n",
            "8. **Конвертер валют:**\n",
            "   - Код корректно конвертирует сумму в долларах в евро по заданному курсу.\n",
            "   - Пример вывода: \"Введите сумму в долларах: 140\\nСумма в евро: 119.0\"\n",
            "   - **Оценка: 10/10**\n",
            "\n",
            "9. **Проверка делимости чисел:**\n",
            "   - Код корректно проверяет делимость первого числа на второе и выводит соответствующее сообщение.\n",
            "   - Пример вывода: \"Введите первое число: 34\\nВведите второе число: 17\\n34 делится на 17 без остатка.\"\n",
            "   - **Оценка: 10/10**\n",
            "\n",
            "10. **Определение сезона по месяцу:**\n",
            "    - Код корректно определяет сезон по номеру месяца и обрабатывает неправильный ввод.\n",
            "    - Пример вывода: \"Введите номер месяца (от 1 до 12): 7\\nМесяц номер 7 относится к сезону лето\"\n",
            "    - **Оценка: 10/10**\n",
            "\n",
            "### Заключение\n",
            "\n",
            "Студент справился с домашним заданием на отлично. Все задачи выполнены корректно, код работает без ошибок и выдаёт правильные результаты. \n",
            "\n",
            "### Оценка: 10/10\n",
            "\n",
            "### Рекомендации\n",
            "\n",
            "1. **Чтение и запись данных:**\n",
            "   - В будущем, можно попробовать использовать более сложные структуры данных и методы для работы с файлами.\n",
            "\n",
            "2. **Обработка ошибок:**\n",
            "   - Включение обработки исключений (try-except) для улучшения устойчивости программ.\n",
            "\n",
            "3. **Оптимизация кода:**\n",
            "   - Изучение и применение более эффективных алгоритмов и структур данных для решения задач.\n",
            "\n",
            "Продолжайте в том же духе! Вы демонстрируете отличное понимание основ Python и уверенно справляетесь с задачами различной сложности.\n"
          ]
        }
      ]
    },
    {
      "cell_type": "markdown",
      "source": [
        "# **Проверка домашнего задания**\n",
        "(с двумя ошибками)"
      ],
      "metadata": {
        "id": "IlvhNTMWAz1S"
      }
    },
    {
      "cell_type": "code",
      "source": [
        "#@title Выбираем файл с выполненным домашним заданием\n",
        "from google.colab import files\n",
        "\n",
        "# Загружаем файлы\n",
        "uploaded = files.upload()\n",
        "\n",
        "# Перебираем все загруженные файлы\n",
        "for filename in uploaded.keys():\n",
        "    print('Файл \"{name}\" загружен!'.format(name=filename))\n",
        "    # Открываем файл на чтение\n",
        "    with open(filename, 'r') as file:\n",
        "        # Читаем содержимое файла и сохраняем его в переменную\n",
        "        resheniye = file.read()\n"
      ],
      "metadata": {
        "colab": {
          "base_uri": "https://localhost:8080/",
          "height": 90
        },
        "outputId": "9f7354c6-40e9-4e6c-bcb8-2423a6ecb20a",
        "cellView": "form",
        "id": "2a6ApyPhAz1g"
      },
      "execution_count": null,
      "outputs": [
        {
          "output_type": "display_data",
          "data": {
            "text/plain": [
              "<IPython.core.display.HTML object>"
            ],
            "text/html": [
              "\n",
              "     <input type=\"file\" id=\"files-7ad371be-eb70-4aa9-afbd-f9ea7cd28e6f\" name=\"files[]\" multiple disabled\n",
              "        style=\"border:none\" />\n",
              "     <output id=\"result-7ad371be-eb70-4aa9-afbd-f9ea7cd28e6f\">\n",
              "      Upload widget is only available when the cell has been executed in the\n",
              "      current browser session. Please rerun this cell to enable.\n",
              "      </output>\n",
              "      <script>// Copyright 2017 Google LLC\n",
              "//\n",
              "// Licensed under the Apache License, Version 2.0 (the \"License\");\n",
              "// you may not use this file except in compliance with the License.\n",
              "// You may obtain a copy of the License at\n",
              "//\n",
              "//      http://www.apache.org/licenses/LICENSE-2.0\n",
              "//\n",
              "// Unless required by applicable law or agreed to in writing, software\n",
              "// distributed under the License is distributed on an \"AS IS\" BASIS,\n",
              "// WITHOUT WARRANTIES OR CONDITIONS OF ANY KIND, either express or implied.\n",
              "// See the License for the specific language governing permissions and\n",
              "// limitations under the License.\n",
              "\n",
              "/**\n",
              " * @fileoverview Helpers for google.colab Python module.\n",
              " */\n",
              "(function(scope) {\n",
              "function span(text, styleAttributes = {}) {\n",
              "  const element = document.createElement('span');\n",
              "  element.textContent = text;\n",
              "  for (const key of Object.keys(styleAttributes)) {\n",
              "    element.style[key] = styleAttributes[key];\n",
              "  }\n",
              "  return element;\n",
              "}\n",
              "\n",
              "// Max number of bytes which will be uploaded at a time.\n",
              "const MAX_PAYLOAD_SIZE = 100 * 1024;\n",
              "\n",
              "function _uploadFiles(inputId, outputId) {\n",
              "  const steps = uploadFilesStep(inputId, outputId);\n",
              "  const outputElement = document.getElementById(outputId);\n",
              "  // Cache steps on the outputElement to make it available for the next call\n",
              "  // to uploadFilesContinue from Python.\n",
              "  outputElement.steps = steps;\n",
              "\n",
              "  return _uploadFilesContinue(outputId);\n",
              "}\n",
              "\n",
              "// This is roughly an async generator (not supported in the browser yet),\n",
              "// where there are multiple asynchronous steps and the Python side is going\n",
              "// to poll for completion of each step.\n",
              "// This uses a Promise to block the python side on completion of each step,\n",
              "// then passes the result of the previous step as the input to the next step.\n",
              "function _uploadFilesContinue(outputId) {\n",
              "  const outputElement = document.getElementById(outputId);\n",
              "  const steps = outputElement.steps;\n",
              "\n",
              "  const next = steps.next(outputElement.lastPromiseValue);\n",
              "  return Promise.resolve(next.value.promise).then((value) => {\n",
              "    // Cache the last promise value to make it available to the next\n",
              "    // step of the generator.\n",
              "    outputElement.lastPromiseValue = value;\n",
              "    return next.value.response;\n",
              "  });\n",
              "}\n",
              "\n",
              "/**\n",
              " * Generator function which is called between each async step of the upload\n",
              " * process.\n",
              " * @param {string} inputId Element ID of the input file picker element.\n",
              " * @param {string} outputId Element ID of the output display.\n",
              " * @return {!Iterable<!Object>} Iterable of next steps.\n",
              " */\n",
              "function* uploadFilesStep(inputId, outputId) {\n",
              "  const inputElement = document.getElementById(inputId);\n",
              "  inputElement.disabled = false;\n",
              "\n",
              "  const outputElement = document.getElementById(outputId);\n",
              "  outputElement.innerHTML = '';\n",
              "\n",
              "  const pickedPromise = new Promise((resolve) => {\n",
              "    inputElement.addEventListener('change', (e) => {\n",
              "      resolve(e.target.files);\n",
              "    });\n",
              "  });\n",
              "\n",
              "  const cancel = document.createElement('button');\n",
              "  inputElement.parentElement.appendChild(cancel);\n",
              "  cancel.textContent = 'Cancel upload';\n",
              "  const cancelPromise = new Promise((resolve) => {\n",
              "    cancel.onclick = () => {\n",
              "      resolve(null);\n",
              "    };\n",
              "  });\n",
              "\n",
              "  // Wait for the user to pick the files.\n",
              "  const files = yield {\n",
              "    promise: Promise.race([pickedPromise, cancelPromise]),\n",
              "    response: {\n",
              "      action: 'starting',\n",
              "    }\n",
              "  };\n",
              "\n",
              "  cancel.remove();\n",
              "\n",
              "  // Disable the input element since further picks are not allowed.\n",
              "  inputElement.disabled = true;\n",
              "\n",
              "  if (!files) {\n",
              "    return {\n",
              "      response: {\n",
              "        action: 'complete',\n",
              "      }\n",
              "    };\n",
              "  }\n",
              "\n",
              "  for (const file of files) {\n",
              "    const li = document.createElement('li');\n",
              "    li.append(span(file.name, {fontWeight: 'bold'}));\n",
              "    li.append(span(\n",
              "        `(${file.type || 'n/a'}) - ${file.size} bytes, ` +\n",
              "        `last modified: ${\n",
              "            file.lastModifiedDate ? file.lastModifiedDate.toLocaleDateString() :\n",
              "                                    'n/a'} - `));\n",
              "    const percent = span('0% done');\n",
              "    li.appendChild(percent);\n",
              "\n",
              "    outputElement.appendChild(li);\n",
              "\n",
              "    const fileDataPromise = new Promise((resolve) => {\n",
              "      const reader = new FileReader();\n",
              "      reader.onload = (e) => {\n",
              "        resolve(e.target.result);\n",
              "      };\n",
              "      reader.readAsArrayBuffer(file);\n",
              "    });\n",
              "    // Wait for the data to be ready.\n",
              "    let fileData = yield {\n",
              "      promise: fileDataPromise,\n",
              "      response: {\n",
              "        action: 'continue',\n",
              "      }\n",
              "    };\n",
              "\n",
              "    // Use a chunked sending to avoid message size limits. See b/62115660.\n",
              "    let position = 0;\n",
              "    do {\n",
              "      const length = Math.min(fileData.byteLength - position, MAX_PAYLOAD_SIZE);\n",
              "      const chunk = new Uint8Array(fileData, position, length);\n",
              "      position += length;\n",
              "\n",
              "      const base64 = btoa(String.fromCharCode.apply(null, chunk));\n",
              "      yield {\n",
              "        response: {\n",
              "          action: 'append',\n",
              "          file: file.name,\n",
              "          data: base64,\n",
              "        },\n",
              "      };\n",
              "\n",
              "      let percentDone = fileData.byteLength === 0 ?\n",
              "          100 :\n",
              "          Math.round((position / fileData.byteLength) * 100);\n",
              "      percent.textContent = `${percentDone}% done`;\n",
              "\n",
              "    } while (position < fileData.byteLength);\n",
              "  }\n",
              "\n",
              "  // All done.\n",
              "  yield {\n",
              "    response: {\n",
              "      action: 'complete',\n",
              "    }\n",
              "  };\n",
              "}\n",
              "\n",
              "scope.google = scope.google || {};\n",
              "scope.google.colab = scope.google.colab || {};\n",
              "scope.google.colab._files = {\n",
              "  _uploadFiles,\n",
              "  _uploadFilesContinue,\n",
              "};\n",
              "})(self);\n",
              "</script> "
            ]
          },
          "metadata": {}
        },
        {
          "output_type": "stream",
          "name": "stdout",
          "text": [
            "Saving ДЗ_РЕШЕНИЕ_с_2_ошибками_Python_на_ChatGPT_День_1.ipynb to ДЗ_РЕШЕНИЕ_с_2_ошибками_Python_на_ChatGPT_День_1 (2).ipynb\n",
            "Файл \"ДЗ_РЕШЕНИЕ_с_2_ошибками_Python_на_ChatGPT_День_1 (2).ipynb\" загружен!\n"
          ]
        }
      ]
    },
    {
      "cell_type": "code",
      "source": [
        "#@title Запуск проверки\n",
        "import json\n",
        "import requests\n",
        "\n",
        "tema = \"Основы Python\"\n",
        "dz = '''Задачи уровня lite:\n",
        "1. Простой калькулятор:\n",
        "\n",
        "Напишите программу, которая запрашивает у пользователя два числа и выполняет их сложение. Выведите результат на экран.\n",
        "2. Проверка четности числа:\n",
        "\n",
        "Запросите у пользователя число и выведите на экран, является ли это число четным или нечетным.\n",
        "3. Подсчет количества слов:\n",
        "\n",
        "Напишите программу, которая просит пользователя ввести предложение и подсчитывает количество слов в этом предложении.\n",
        "4. Проверка на большее число:\n",
        "\n",
        "Напишите программу, которая запрашивает у пользователя два числа и выводит на экран большее из них. Если числа равны, программа должна сообщить, что числа равны.\n",
        "5. Сумма чисел до N:\n",
        "\n",
        "Напишите программу, которая просит пользователя ввести положительное число N, а затем вычисляет сумму всех чисел от 1 до N.\n",
        "Задачи уровня pro:\n",
        "6. Калькулятор времени:\n",
        "\n",
        "Напишите программу, которая запрашивает у пользователя количество секунд и преобразует их в часы, минуты и секунды. Выведите результат в формате \"ЧЧ:ММ:СС\".\n",
        "7. Расчет стоимости покупки:\n",
        "\n",
        "Напишите программу, которая запрашивает у пользователя стоимость одного товара и количество товаров, которое он хочет купить. Затем вычислите и выведите общую стоимость покупки.\n",
        "8. Конвертер валют:\n",
        "\n",
        "Напишите программу, которая запрашивает у пользователя сумму в долларах и конвертирует её в евро по текущему курсу (курс можно задать в программе как константу). Выведите результат конвертации.\n",
        "9. Проверка делимости чисел:\n",
        "\n",
        "Напишите программу, которая запрашивает у пользователя два числа и проверяет, делится ли первое число на второе без остатка. Программа должна выводить соответствующее сообщение о результате.\n",
        "10. Определение сезона по месяцу:\n",
        "\n",
        "Напишите программу, которая запрашивает у пользователя номер месяца (от 1 до 12) и выводит, к какому сезону этот месяц относится. Программа должна корректно обрабатывать неправильный ввод (например, если пользователь введет число за пределами диапазона).'''\n",
        "\n",
        "url = \"http://62.113.108.33/vebinar-v1/check_dz\"\n",
        "headers = {\"Content-Type\": \"application/json\",\n",
        "    \"Authorization\": '89e768ed-4bc1-4e12-9139-45023e2976a5'\n",
        "    }\n",
        "data = {\n",
        "    \"tema\": tema,\n",
        "    \"dz\": dz,\n",
        "    \"resheniye\": resheniye\n",
        "}\n",
        "\n",
        "response = requests.post(url, headers=headers, data=json.dumps(data))\n",
        "if response.status_code == 200:\n",
        "  print(json.loads(response.text)['choices'][0]['message']['content'])\n",
        "else:\n",
        "  print(\"Возникла ошибка:\", response.status_code)\n",
        "  print(response.text)"
      ],
      "metadata": {
        "colab": {
          "base_uri": "https://localhost:8080/"
        },
        "outputId": "be1aa005-2424-410b-8364-6f7635186da4",
        "cellView": "form",
        "id": "dnT6gQ1wAz1h"
      },
      "execution_count": null,
      "outputs": [
        {
          "output_type": "stream",
          "name": "stdout",
          "text": [
            "### Оценка решения студента\n",
            "\n",
            "#### **Задачи уровня lite:**\n",
            "\n",
            "1. **Простой калькулятор:**\n",
            "   - Код работает корректно, запрашивает два числа, выполняет их сложение и выводит результат.\n",
            "   - Рекомендации: Нет.\n",
            "\n",
            "2. **Проверка четности числа:**\n",
            "   - Код работает корректно, запрашивает число и проверяет его четность.\n",
            "   - Рекомендации: Нет.\n",
            "\n",
            "3. **Подсчет количества слов:**\n",
            "   - Код работает корректно, запрашивает предложение и подсчитывает количество слов.\n",
            "   - Рекомендации: Нет.\n",
            "\n",
            "4. **Проверка на большее число:**\n",
            "   - Код работает корректно, запрашивает два числа и выводит большее из них или сообщает, что числа равны.\n",
            "   - Рекомендации: Нет.\n",
            "\n",
            "5. **Сумма чисел до N:**\n",
            "   - Код работает корректно, запрашивает положительное число N и вычисляет сумму всех чисел от 1 до N.\n",
            "   - Рекомендации: Нет.\n",
            "\n",
            "#### **Задачи уровня pro:**\n",
            "\n",
            "6. **Калькулятор времени:**\n",
            "   - Код работает корректно, запрашивает количество секунд и преобразует их в часы, минуты и секунды.\n",
            "   - Рекомендации: Нет.\n",
            "\n",
            "7. **Расчет стоимости покупки:**\n",
            "   - Код работает корректно, запрашивает стоимость одного товара и количество товаров, вычисляет и выводит общую стоимость покупки.\n",
            "   - Рекомендации: Нет.\n",
            "\n",
            "8. **Конвертер валют:**\n",
            "   - Код работает корректно, запрашивает сумму в долларах и конвертирует её в евро по заданному курсу.\n",
            "   - Рекомендации: Нет.\n",
            "\n",
            "9. **Проверка делимости чисел:**\n",
            "   - Код содержит ошибку: условие `if num1 % num2 == 1:` должно быть `if num1 % num2 == 0:`.\n",
            "   - Рекомендации: Исправить условие проверки делимости.\n",
            "\n",
            "10. **Определение сезона по месяцу:**\n",
            "    - Код содержит ошибку: условие `if month == 12 or month <= 1:` должно быть `if month == 12 or month <= 2:`.\n",
            "    - Рекомендации: Исправить условие для определения зимы.\n",
            "\n",
            "### Заключение\n",
            "\n",
            "Студент справился с большинством задач, однако в двух задачах уровня pro были допущены ошибки. В остальном, код написан корректно и соответствует требованиям задач.\n",
            "\n",
            "### Оценка: 8/10\n",
            "\n",
            "### Рекомендации:\n",
            "1. Внимательно проверять условия в логических выражениях.\n",
            "2. Тестировать код на различных входных данных, чтобы убедиться в его корректности.\n"
          ]
        }
      ]
    },
    {
      "cell_type": "markdown",
      "source": [
        "# **Проверка домашнего задания**\n",
        "(много ошибок)"
      ],
      "metadata": {
        "id": "BC79XCYQA09T"
      }
    },
    {
      "cell_type": "code",
      "source": [
        "#@title Выбираем файл с выполненным домашним заданием\n",
        "from google.colab import files\n",
        "\n",
        "# Загружаем файлы\n",
        "uploaded = files.upload()\n",
        "\n",
        "# Перебираем все загруженные файлы\n",
        "for filename in uploaded.keys():\n",
        "    print('Файл \"{name}\" загружен!'.format(name=filename))\n",
        "    # Открываем файл на чтение\n",
        "    with open(filename, 'r') as file:\n",
        "        # Читаем содержимое файла и сохраняем его в переменную\n",
        "        resheniye = file.read()\n"
      ],
      "metadata": {
        "colab": {
          "base_uri": "https://localhost:8080/",
          "height": 90
        },
        "outputId": "b7c6a5a3-06ec-49be-c350-3a6db2aeda6f",
        "cellView": "form",
        "id": "zNYWW771A09U"
      },
      "execution_count": null,
      "outputs": [
        {
          "output_type": "display_data",
          "data": {
            "text/plain": [
              "<IPython.core.display.HTML object>"
            ],
            "text/html": [
              "\n",
              "     <input type=\"file\" id=\"files-70e9703b-5177-45bb-be6d-738a82162c1b\" name=\"files[]\" multiple disabled\n",
              "        style=\"border:none\" />\n",
              "     <output id=\"result-70e9703b-5177-45bb-be6d-738a82162c1b\">\n",
              "      Upload widget is only available when the cell has been executed in the\n",
              "      current browser session. Please rerun this cell to enable.\n",
              "      </output>\n",
              "      <script>// Copyright 2017 Google LLC\n",
              "//\n",
              "// Licensed under the Apache License, Version 2.0 (the \"License\");\n",
              "// you may not use this file except in compliance with the License.\n",
              "// You may obtain a copy of the License at\n",
              "//\n",
              "//      http://www.apache.org/licenses/LICENSE-2.0\n",
              "//\n",
              "// Unless required by applicable law or agreed to in writing, software\n",
              "// distributed under the License is distributed on an \"AS IS\" BASIS,\n",
              "// WITHOUT WARRANTIES OR CONDITIONS OF ANY KIND, either express or implied.\n",
              "// See the License for the specific language governing permissions and\n",
              "// limitations under the License.\n",
              "\n",
              "/**\n",
              " * @fileoverview Helpers for google.colab Python module.\n",
              " */\n",
              "(function(scope) {\n",
              "function span(text, styleAttributes = {}) {\n",
              "  const element = document.createElement('span');\n",
              "  element.textContent = text;\n",
              "  for (const key of Object.keys(styleAttributes)) {\n",
              "    element.style[key] = styleAttributes[key];\n",
              "  }\n",
              "  return element;\n",
              "}\n",
              "\n",
              "// Max number of bytes which will be uploaded at a time.\n",
              "const MAX_PAYLOAD_SIZE = 100 * 1024;\n",
              "\n",
              "function _uploadFiles(inputId, outputId) {\n",
              "  const steps = uploadFilesStep(inputId, outputId);\n",
              "  const outputElement = document.getElementById(outputId);\n",
              "  // Cache steps on the outputElement to make it available for the next call\n",
              "  // to uploadFilesContinue from Python.\n",
              "  outputElement.steps = steps;\n",
              "\n",
              "  return _uploadFilesContinue(outputId);\n",
              "}\n",
              "\n",
              "// This is roughly an async generator (not supported in the browser yet),\n",
              "// where there are multiple asynchronous steps and the Python side is going\n",
              "// to poll for completion of each step.\n",
              "// This uses a Promise to block the python side on completion of each step,\n",
              "// then passes the result of the previous step as the input to the next step.\n",
              "function _uploadFilesContinue(outputId) {\n",
              "  const outputElement = document.getElementById(outputId);\n",
              "  const steps = outputElement.steps;\n",
              "\n",
              "  const next = steps.next(outputElement.lastPromiseValue);\n",
              "  return Promise.resolve(next.value.promise).then((value) => {\n",
              "    // Cache the last promise value to make it available to the next\n",
              "    // step of the generator.\n",
              "    outputElement.lastPromiseValue = value;\n",
              "    return next.value.response;\n",
              "  });\n",
              "}\n",
              "\n",
              "/**\n",
              " * Generator function which is called between each async step of the upload\n",
              " * process.\n",
              " * @param {string} inputId Element ID of the input file picker element.\n",
              " * @param {string} outputId Element ID of the output display.\n",
              " * @return {!Iterable<!Object>} Iterable of next steps.\n",
              " */\n",
              "function* uploadFilesStep(inputId, outputId) {\n",
              "  const inputElement = document.getElementById(inputId);\n",
              "  inputElement.disabled = false;\n",
              "\n",
              "  const outputElement = document.getElementById(outputId);\n",
              "  outputElement.innerHTML = '';\n",
              "\n",
              "  const pickedPromise = new Promise((resolve) => {\n",
              "    inputElement.addEventListener('change', (e) => {\n",
              "      resolve(e.target.files);\n",
              "    });\n",
              "  });\n",
              "\n",
              "  const cancel = document.createElement('button');\n",
              "  inputElement.parentElement.appendChild(cancel);\n",
              "  cancel.textContent = 'Cancel upload';\n",
              "  const cancelPromise = new Promise((resolve) => {\n",
              "    cancel.onclick = () => {\n",
              "      resolve(null);\n",
              "    };\n",
              "  });\n",
              "\n",
              "  // Wait for the user to pick the files.\n",
              "  const files = yield {\n",
              "    promise: Promise.race([pickedPromise, cancelPromise]),\n",
              "    response: {\n",
              "      action: 'starting',\n",
              "    }\n",
              "  };\n",
              "\n",
              "  cancel.remove();\n",
              "\n",
              "  // Disable the input element since further picks are not allowed.\n",
              "  inputElement.disabled = true;\n",
              "\n",
              "  if (!files) {\n",
              "    return {\n",
              "      response: {\n",
              "        action: 'complete',\n",
              "      }\n",
              "    };\n",
              "  }\n",
              "\n",
              "  for (const file of files) {\n",
              "    const li = document.createElement('li');\n",
              "    li.append(span(file.name, {fontWeight: 'bold'}));\n",
              "    li.append(span(\n",
              "        `(${file.type || 'n/a'}) - ${file.size} bytes, ` +\n",
              "        `last modified: ${\n",
              "            file.lastModifiedDate ? file.lastModifiedDate.toLocaleDateString() :\n",
              "                                    'n/a'} - `));\n",
              "    const percent = span('0% done');\n",
              "    li.appendChild(percent);\n",
              "\n",
              "    outputElement.appendChild(li);\n",
              "\n",
              "    const fileDataPromise = new Promise((resolve) => {\n",
              "      const reader = new FileReader();\n",
              "      reader.onload = (e) => {\n",
              "        resolve(e.target.result);\n",
              "      };\n",
              "      reader.readAsArrayBuffer(file);\n",
              "    });\n",
              "    // Wait for the data to be ready.\n",
              "    let fileData = yield {\n",
              "      promise: fileDataPromise,\n",
              "      response: {\n",
              "        action: 'continue',\n",
              "      }\n",
              "    };\n",
              "\n",
              "    // Use a chunked sending to avoid message size limits. See b/62115660.\n",
              "    let position = 0;\n",
              "    do {\n",
              "      const length = Math.min(fileData.byteLength - position, MAX_PAYLOAD_SIZE);\n",
              "      const chunk = new Uint8Array(fileData, position, length);\n",
              "      position += length;\n",
              "\n",
              "      const base64 = btoa(String.fromCharCode.apply(null, chunk));\n",
              "      yield {\n",
              "        response: {\n",
              "          action: 'append',\n",
              "          file: file.name,\n",
              "          data: base64,\n",
              "        },\n",
              "      };\n",
              "\n",
              "      let percentDone = fileData.byteLength === 0 ?\n",
              "          100 :\n",
              "          Math.round((position / fileData.byteLength) * 100);\n",
              "      percent.textContent = `${percentDone}% done`;\n",
              "\n",
              "    } while (position < fileData.byteLength);\n",
              "  }\n",
              "\n",
              "  // All done.\n",
              "  yield {\n",
              "    response: {\n",
              "      action: 'complete',\n",
              "    }\n",
              "  };\n",
              "}\n",
              "\n",
              "scope.google = scope.google || {};\n",
              "scope.google.colab = scope.google.colab || {};\n",
              "scope.google.colab._files = {\n",
              "  _uploadFiles,\n",
              "  _uploadFilesContinue,\n",
              "};\n",
              "})(self);\n",
              "</script> "
            ]
          },
          "metadata": {}
        },
        {
          "output_type": "stream",
          "name": "stdout",
          "text": [
            "Saving ДЗ_РЕШЕНИЕ_много_ошибок_Python_на_ChatGPT_День_1.ipynb to ДЗ_РЕШЕНИЕ_много_ошибок_Python_на_ChatGPT_День_1 (1).ipynb\n",
            "Файл \"ДЗ_РЕШЕНИЕ_много_ошибок_Python_на_ChatGPT_День_1 (1).ipynb\" загружен!\n"
          ]
        }
      ]
    },
    {
      "cell_type": "code",
      "source": [
        "#@title Запуск проверки\n",
        "import json\n",
        "import requests\n",
        "\n",
        "tema = \"Основы Python\"\n",
        "dz = '''Задачи уровня lite:\n",
        "1. Простой калькулятор:\n",
        "\n",
        "Напишите программу, которая запрашивает у пользователя два числа и выполняет их сложение. Выведите результат на экран.\n",
        "2. Проверка четности числа:\n",
        "\n",
        "Запросите у пользователя число и выведите на экран, является ли это число четным или нечетным.\n",
        "3. Подсчет количества слов:\n",
        "\n",
        "Напишите программу, которая просит пользователя ввести предложение и подсчитывает количество слов в этом предложении.\n",
        "4. Проверка на большее число:\n",
        "\n",
        "Напишите программу, которая запрашивает у пользователя два числа и выводит на экран большее из них. Если числа равны, программа должна сообщить, что числа равны.\n",
        "5. Сумма чисел до N:\n",
        "\n",
        "Напишите программу, которая просит пользователя ввести положительное число N, а затем вычисляет сумму всех чисел от 1 до N.\n",
        "Задачи уровня pro:\n",
        "6. Калькулятор времени:\n",
        "\n",
        "Напишите программу, которая запрашивает у пользователя количество секунд и преобразует их в часы, минуты и секунды. Выведите результат в формате \"ЧЧ:ММ:СС\".\n",
        "7. Расчет стоимости покупки:\n",
        "\n",
        "Напишите программу, которая запрашивает у пользователя стоимость одного товара и количество товаров, которое он хочет купить. Затем вычислите и выведите общую стоимость покупки.\n",
        "8. Конвертер валют:\n",
        "\n",
        "Напишите программу, которая запрашивает у пользователя сумму в долларах и конвертирует её в евро по текущему курсу (курс можно задать в программе как константу). Выведите результат конвертации.\n",
        "9. Проверка делимости чисел:\n",
        "\n",
        "Напишите программу, которая запрашивает у пользователя два числа и проверяет, делится ли первое число на второе без остатка. Программа должна выводить соответствующее сообщение о результате.\n",
        "10. Определение сезона по месяцу:\n",
        "\n",
        "Напишите программу, которая запрашивает у пользователя номер месяца (от 1 до 12) и выводит, к какому сезону этот месяц относится. Программа должна корректно обрабатывать неправильный ввод (например, если пользователь введет число за пределами диапазона).'''\n",
        "\n",
        "url = \"http://62.113.108.33/vebinar-v1/check_dz\"\n",
        "headers = {\"Content-Type\": \"application/json\",\n",
        "    \"Authorization\": '89e768ed-4bc1-4e12-9139-45023e2976a5'\n",
        "    }\n",
        "data = {\n",
        "    \"tema\": tema,\n",
        "    \"dz\": dz,\n",
        "    \"resheniye\": resheniye\n",
        "}\n",
        "\n",
        "response = requests.post(url, headers=headers, data=json.dumps(data))\n",
        "if response.status_code == 200:\n",
        "  print(json.loads(response.text)['choices'][0]['message']['content'])\n",
        "else:\n",
        "  print(\"Возникла ошибка:\", response.status_code)\n",
        "  print(response.text)"
      ],
      "metadata": {
        "colab": {
          "base_uri": "https://localhost:8080/"
        },
        "outputId": "26ff6452-9205-42c8-cf79-f61afe5d0c53",
        "cellView": "form",
        "id": "RQRZPODTA09U"
      },
      "execution_count": null,
      "outputs": [
        {
          "output_type": "stream",
          "name": "stdout",
          "text": [
            "### Оценка решения студента\n",
            "\n",
            "#### **Задачи уровня lite:**\n",
            "\n",
            "1. **Простой калькулятор:**\n",
            "   ```python\n",
            "   num1 = input(\"Введите первое число: \")\n",
            "   num2 = input(\"Введите второе число: \")\n",
            "   result = num1 + num2\n",
            "   print(\"Результат сложения:\", result)\n",
            "   ```\n",
            "   **Ошибки:**\n",
            "   - `input()` возвращает строку, поэтому сложение строк даст конкатенацию, а не арифметическое сложение.\n",
            "   \n",
            "   **Рекомендации:**\n",
            "   - Преобразуйте ввод в числа с помощью `int()` или `float()`.\n",
            "   ```python\n",
            "   num1 = float(input(\"Введите первое число: \"))\n",
            "   num2 = float(input(\"Введите второе число: \"))\n",
            "   result = num1 + num2\n",
            "   print(\"Результат сложения:\", result)\n",
            "   ```\n",
            "\n",
            "2. **Проверка четности числа:**\n",
            "   ```python\n",
            "   number = input(\"Введите число: \")\n",
            "   if number % 2 == 0:\n",
            "       print(\"Число четное\")\n",
            "   else:\n",
            "       print(\"Число нечетное\")\n",
            "   ```\n",
            "   **Ошибки:**\n",
            "   - `input()` возвращает строку, поэтому необходимо преобразовать её в число.\n",
            "   \n",
            "   **Рекомендации:**\n",
            "   - Используйте `int()` для преобразования строки в целое число.\n",
            "   ```python\n",
            "   number = int(input(\"Введите число: \"))\n",
            "   if number % 2 == 0:\n",
            "       print(\"Число четное\")\n",
            "   else:\n",
            "       print(\"Число нечетное\")\n",
            "   ```\n",
            "\n",
            "3. **Подсчет количества слов:**\n",
            "   ```python\n",
            "   sentence = input(\"Введите предложение: \")\n",
            "   words = sentence.split()\n",
            "   print(\"Количество слов в предложении:\", len(words))\n",
            "   ```\n",
            "   **Ошибок нет.**\n",
            "\n",
            "4. **Проверка на большее число:**\n",
            "   ```python\n",
            "   num1 = input(\"Введите первое число: \")\n",
            "   num2 = input(\"Введите второе число: \")\n",
            "   if num1 > num2:\n",
            "       print(\"Первое число больше\")\n",
            "   elif num1 < num2:\n",
            "       print(\"Второе число больше\")\n",
            "   else:\n",
            "       print(\"Числа равны\")\n",
            "   ```\n",
            "   **Ошибки:**\n",
            "   - `input()` возвращает строку, поэтому необходимо преобразовать её в число.\n",
            "   \n",
            "   **Рекомендации:**\n",
            "   - Используйте `float()` для преобразования строки в число.\n",
            "   ```python\n",
            "   num1 = float(input(\"Введите первое число: \"))\n",
            "   num2 = float(input(\"Введите второе число: \"))\n",
            "   if num1 > num2:\n",
            "       print(\"Первое число больше\")\n",
            "   elif num1 < num2:\n",
            "       print(\"Второе число больше\")\n",
            "   else:\n",
            "       print(\"Числа равны\")\n",
            "   ```\n",
            "\n",
            "5. **Сумма чисел до N:**\n",
            "   ```python\n",
            "   N = input(\"Введите число N: \")\n",
            "   sum = 0\n",
            "   for i in range(N):  # Ошибка: range() ожидает целое число, а не строку\n",
            "       sum += i\n",
            "   print(\"Сумма чисел до\", N, \":\", sum)\n",
            "   ```\n",
            "   **Ошибки:**\n",
            "   - `input()` возвращает строку, поэтому необходимо преобразовать её в целое число.\n",
            "   - `range(N)` должен быть `range(1, N+1)` для корректного подсчета суммы.\n",
            "   \n",
            "   **Рекомендации:**\n",
            "   - Используйте `int()` для преобразования строки в целое число.\n",
            "   ```python\n",
            "   N = int(input(\"Введите число N: \"))\n",
            "   sum = 0\n",
            "   for i in range(1, N + 1):\n",
            "       sum += i\n",
            "   print(\"Сумма чисел до\", N, \":\", sum)\n",
            "   ```\n",
            "\n",
            "#### **Задачи уровня pro:**\n",
            "\n",
            "6. **Калькулятор времени:**\n",
            "   ```python\n",
            "   seconds = int(input(\"Введите количество секунд: \"))\n",
            "   hours = seconds // 3600\n",
            "   minutes = (seconds - hours * 3600) // 60\n",
            "   seconds = seconds % 60\n",
            "   print(f\"Время: {hours}:{minutes}:{seconds}\")\n",
            "   ```\n",
            "   **Ошибок нет.**\n",
            "\n",
            "7. **Расчет стоимости покупки:**\n",
            "   ```python\n",
            "   item_price = float(input(\"Введите стоимость товара: \"))\n",
            "   quantity = int(input(\"Введите количество товаров: \"))\n",
            "   total_cost = item_price * quantity\n",
            "   print(\"Общая стоимость покупки: \", total_cost)\n",
            "   ```\n",
            "   **Ошибок нет.**\n",
            "\n",
            "8. **Конвертер валют:**\n",
            "   ```python\n",
            "   usd_amount = float(input(\"Введите сумму в долларах: \"))\n",
            "   exchange_rate = 0.85\n",
            "   euro_amount = usd_amount * exchange_rate\n",
            "   print(\"Сумма в евро: \", euro_amount)\n",
            "   ```\n",
            "   **Ошибок нет.**\n",
            "\n",
            "9. **Проверка делимости чисел:**\n",
            "   ```python\n",
            "   num1 = int(input(\"Введите первое число: \"))\n",
            "   num2 = int(input(\"Введите второе число: \"))\n",
            "   if num1 % num2 == 1:\n",
            "       print(f\"{num1} делится на {num2} без остатка\")\n",
            "   else:\n",
            "       print(f\"{num1} не делится на {num2} без остатка\")\n",
            "   ```\n",
            "   **Ошибки:**\n",
            "   - Условие `if num1 % num2 == 1` неверно. Должно быть `if num1 % num2 == 0`.\n",
            "   \n",
            "   **Рекомендации:**\n",
            "   ```python\n",
            "   num1 = int(input(\"Введите первое число: \"))\n",
            "   num2 = int(input(\"Введите второе число: \"))\n",
            "   if num1 % num2 == 0:\n",
            "       print(f\"{num1} делится на {num2} без остатка\")\n",
            "   else:\n",
            "       print(f\"{num1} не делится на {num2} без остатка\")\n",
            "   ```\n",
            "\n",
            "10. **Определение сезона по месяцу:**\n",
            "   ```python\n",
            "   month = int(input(\"Введите номер месяца (от 1 до 12): \"))\n",
            "   if month == 12 or month <= 1:\n",
            "       print(\"Зима\")\n",
            "   elif month >= 3 and month <= 5:\n",
            "       print(\"Весна\")\n",
            "   elif month >= 6 and month <= 8:\n",
            "       print(\"Лето\")\n",
            "   elif month >= 9 and month <= 11:\n",
            "       print(\"Осень\")\n",
            "   else:\n",
            "       print(\"Ошибка: введите число от 1 до 12\")\n",
            "   ```\n",
            "   **Ошибки:**\n",
            "   - Условие `if month == 12 or month <= 1` неверно. Должно быть `if month == 12 or month <= 2`.\n",
            "   \n",
            "   **Рекомендации:**\n",
            "   ```python\n",
            "   month = int(input(\"Введите номер месяца (от 1 до 12): \"))\n",
            "   if month == 12 or month <= 2:\n",
            "       print(\"Зима\")\n",
            "   elif month >= 3 and month <= 5:\n",
            "       print(\"Весна\")\n",
            "   elif month >= 6 and month <= 8:\n",
            "       print(\"Лето\")\n",
            "   elif month >= 9 and month <= 11:\n",
            "       print(\"Осень\")\n",
            "   else:\n",
            "       print(\"Ошибка: введите число от 1 до 12\")\n",
            "   ```\n",
            "\n",
            "### Заключение\n",
            "\n",
            "Студент выполнил задание, но допустил несколько ошибок, связанных с преобразованием типов данных и логическими условиями. Важно обратить внимание на корректное использование функций преобразования типов (`int()`, `float()`) и правильное составление условий.\n",
            "\n",
            "### Оценка: 6/10\n",
            "\n",
            "**Рекомендации:**\n",
            "1. Внимательно проверяйте типы данных, возвращаемые функциями.\n",
            "2. Убедитесь, что условия логически корректны.\n",
            "3. Запускайте и тестируйте код, чтобы убедиться в его правильности.\n",
            "\n",
            "С учетом исправлений, студент сможет значительно улучшить свои навыки программирования на Python.\n"
          ]
        }
      ]
    },
    {
      "cell_type": "code",
      "source": [
        "#@title Выбираем файл с выполненным домашним заданием\n",
        "from google.colab import files\n",
        "\n",
        "# Загружаем файлы\n",
        "uploaded = files.upload()\n",
        "\n",
        "# Перебираем все загруженные файлы\n",
        "for filename in uploaded.keys():\n",
        "    print('Файл \"{name}\" загружен!'.format(name=filename))\n",
        "    # Открываем файл на чтение\n",
        "    with open(filename, 'r') as file:\n",
        "        # Читаем содержимое файла и сохраняем его в переменную\n",
        "        resheniye = file.read()\n"
      ],
      "metadata": {
        "cellView": "form",
        "id": "IYdRvi-QY-8y",
        "colab": {
          "base_uri": "https://localhost:8080/",
          "height": 90
        },
        "outputId": "48e961b5-85ee-465a-97a1-25b3b7b78471"
      },
      "execution_count": null,
      "outputs": [
        {
          "output_type": "display_data",
          "data": {
            "text/plain": [
              "<IPython.core.display.HTML object>"
            ],
            "text/html": [
              "\n",
              "     <input type=\"file\" id=\"files-515db02a-47ce-4e8d-970f-61206da9fcdd\" name=\"files[]\" multiple disabled\n",
              "        style=\"border:none\" />\n",
              "     <output id=\"result-515db02a-47ce-4e8d-970f-61206da9fcdd\">\n",
              "      Upload widget is only available when the cell has been executed in the\n",
              "      current browser session. Please rerun this cell to enable.\n",
              "      </output>\n",
              "      <script>// Copyright 2017 Google LLC\n",
              "//\n",
              "// Licensed under the Apache License, Version 2.0 (the \"License\");\n",
              "// you may not use this file except in compliance with the License.\n",
              "// You may obtain a copy of the License at\n",
              "//\n",
              "//      http://www.apache.org/licenses/LICENSE-2.0\n",
              "//\n",
              "// Unless required by applicable law or agreed to in writing, software\n",
              "// distributed under the License is distributed on an \"AS IS\" BASIS,\n",
              "// WITHOUT WARRANTIES OR CONDITIONS OF ANY KIND, either express or implied.\n",
              "// See the License for the specific language governing permissions and\n",
              "// limitations under the License.\n",
              "\n",
              "/**\n",
              " * @fileoverview Helpers for google.colab Python module.\n",
              " */\n",
              "(function(scope) {\n",
              "function span(text, styleAttributes = {}) {\n",
              "  const element = document.createElement('span');\n",
              "  element.textContent = text;\n",
              "  for (const key of Object.keys(styleAttributes)) {\n",
              "    element.style[key] = styleAttributes[key];\n",
              "  }\n",
              "  return element;\n",
              "}\n",
              "\n",
              "// Max number of bytes which will be uploaded at a time.\n",
              "const MAX_PAYLOAD_SIZE = 100 * 1024;\n",
              "\n",
              "function _uploadFiles(inputId, outputId) {\n",
              "  const steps = uploadFilesStep(inputId, outputId);\n",
              "  const outputElement = document.getElementById(outputId);\n",
              "  // Cache steps on the outputElement to make it available for the next call\n",
              "  // to uploadFilesContinue from Python.\n",
              "  outputElement.steps = steps;\n",
              "\n",
              "  return _uploadFilesContinue(outputId);\n",
              "}\n",
              "\n",
              "// This is roughly an async generator (not supported in the browser yet),\n",
              "// where there are multiple asynchronous steps and the Python side is going\n",
              "// to poll for completion of each step.\n",
              "// This uses a Promise to block the python side on completion of each step,\n",
              "// then passes the result of the previous step as the input to the next step.\n",
              "function _uploadFilesContinue(outputId) {\n",
              "  const outputElement = document.getElementById(outputId);\n",
              "  const steps = outputElement.steps;\n",
              "\n",
              "  const next = steps.next(outputElement.lastPromiseValue);\n",
              "  return Promise.resolve(next.value.promise).then((value) => {\n",
              "    // Cache the last promise value to make it available to the next\n",
              "    // step of the generator.\n",
              "    outputElement.lastPromiseValue = value;\n",
              "    return next.value.response;\n",
              "  });\n",
              "}\n",
              "\n",
              "/**\n",
              " * Generator function which is called between each async step of the upload\n",
              " * process.\n",
              " * @param {string} inputId Element ID of the input file picker element.\n",
              " * @param {string} outputId Element ID of the output display.\n",
              " * @return {!Iterable<!Object>} Iterable of next steps.\n",
              " */\n",
              "function* uploadFilesStep(inputId, outputId) {\n",
              "  const inputElement = document.getElementById(inputId);\n",
              "  inputElement.disabled = false;\n",
              "\n",
              "  const outputElement = document.getElementById(outputId);\n",
              "  outputElement.innerHTML = '';\n",
              "\n",
              "  const pickedPromise = new Promise((resolve) => {\n",
              "    inputElement.addEventListener('change', (e) => {\n",
              "      resolve(e.target.files);\n",
              "    });\n",
              "  });\n",
              "\n",
              "  const cancel = document.createElement('button');\n",
              "  inputElement.parentElement.appendChild(cancel);\n",
              "  cancel.textContent = 'Cancel upload';\n",
              "  const cancelPromise = new Promise((resolve) => {\n",
              "    cancel.onclick = () => {\n",
              "      resolve(null);\n",
              "    };\n",
              "  });\n",
              "\n",
              "  // Wait for the user to pick the files.\n",
              "  const files = yield {\n",
              "    promise: Promise.race([pickedPromise, cancelPromise]),\n",
              "    response: {\n",
              "      action: 'starting',\n",
              "    }\n",
              "  };\n",
              "\n",
              "  cancel.remove();\n",
              "\n",
              "  // Disable the input element since further picks are not allowed.\n",
              "  inputElement.disabled = true;\n",
              "\n",
              "  if (!files) {\n",
              "    return {\n",
              "      response: {\n",
              "        action: 'complete',\n",
              "      }\n",
              "    };\n",
              "  }\n",
              "\n",
              "  for (const file of files) {\n",
              "    const li = document.createElement('li');\n",
              "    li.append(span(file.name, {fontWeight: 'bold'}));\n",
              "    li.append(span(\n",
              "        `(${file.type || 'n/a'}) - ${file.size} bytes, ` +\n",
              "        `last modified: ${\n",
              "            file.lastModifiedDate ? file.lastModifiedDate.toLocaleDateString() :\n",
              "                                    'n/a'} - `));\n",
              "    const percent = span('0% done');\n",
              "    li.appendChild(percent);\n",
              "\n",
              "    outputElement.appendChild(li);\n",
              "\n",
              "    const fileDataPromise = new Promise((resolve) => {\n",
              "      const reader = new FileReader();\n",
              "      reader.onload = (e) => {\n",
              "        resolve(e.target.result);\n",
              "      };\n",
              "      reader.readAsArrayBuffer(file);\n",
              "    });\n",
              "    // Wait for the data to be ready.\n",
              "    let fileData = yield {\n",
              "      promise: fileDataPromise,\n",
              "      response: {\n",
              "        action: 'continue',\n",
              "      }\n",
              "    };\n",
              "\n",
              "    // Use a chunked sending to avoid message size limits. See b/62115660.\n",
              "    let position = 0;\n",
              "    do {\n",
              "      const length = Math.min(fileData.byteLength - position, MAX_PAYLOAD_SIZE);\n",
              "      const chunk = new Uint8Array(fileData, position, length);\n",
              "      position += length;\n",
              "\n",
              "      const base64 = btoa(String.fromCharCode.apply(null, chunk));\n",
              "      yield {\n",
              "        response: {\n",
              "          action: 'append',\n",
              "          file: file.name,\n",
              "          data: base64,\n",
              "        },\n",
              "      };\n",
              "\n",
              "      let percentDone = fileData.byteLength === 0 ?\n",
              "          100 :\n",
              "          Math.round((position / fileData.byteLength) * 100);\n",
              "      percent.textContent = `${percentDone}% done`;\n",
              "\n",
              "    } while (position < fileData.byteLength);\n",
              "  }\n",
              "\n",
              "  // All done.\n",
              "  yield {\n",
              "    response: {\n",
              "      action: 'complete',\n",
              "    }\n",
              "  };\n",
              "}\n",
              "\n",
              "scope.google = scope.google || {};\n",
              "scope.google.colab = scope.google.colab || {};\n",
              "scope.google.colab._files = {\n",
              "  _uploadFiles,\n",
              "  _uploadFilesContinue,\n",
              "};\n",
              "})(self);\n",
              "</script> "
            ]
          },
          "metadata": {}
        },
        {
          "output_type": "stream",
          "name": "stdout",
          "text": [
            "Saving ДЗ_РЕШЕНИЕ_много_ошибок_Python_на_ChatGPT_День_1.ipynb to ДЗ_РЕШЕНИЕ_много_ошибок_Python_на_ChatGPT_День_1.ipynb\n",
            "Файл \"ДЗ_РЕШЕНИЕ_много_ошибок_Python_на_ChatGPT_День_1.ipynb\" загружен!\n"
          ]
        }
      ]
    },
    {
      "cell_type": "code",
      "source": [
        "#@title Запуск проверки\n",
        "import json\n",
        "import requests\n",
        "\n",
        "tema = \"Основы Python\"\n",
        "dz = '''Задачи уровня lite:\n",
        "1. Простой калькулятор:\n",
        "\n",
        "Напишите программу, которая запрашивает у пользователя два числа и выполняет их сложение. Выведите результат на экран.\n",
        "2. Проверка четности числа:\n",
        "\n",
        "Запросите у пользователя число и выведите на экран, является ли это число четным или нечетным.\n",
        "3. Подсчет количества слов:\n",
        "\n",
        "Напишите программу, которая просит пользователя ввести предложение и подсчитывает количество слов в этом предложении.\n",
        "4. Проверка на большее число:\n",
        "\n",
        "Напишите программу, которая запрашивает у пользователя два числа и выводит на экран большее из них. Если числа равны, программа должна сообщить, что числа равны.\n",
        "5. Сумма чисел до N:\n",
        "\n",
        "Напишите программу, которая просит пользователя ввести положительное число N, а затем вычисляет сумму всех чисел от 1 до N.\n",
        "Задачи уровня pro:\n",
        "6. Калькулятор времени:\n",
        "\n",
        "Напишите программу, которая запрашивает у пользователя количество секунд и преобразует их в часы, минуты и секунды. Выведите результат в формате \"ЧЧ:ММ:СС\".\n",
        "7. Расчет стоимости покупки:\n",
        "\n",
        "Напишите программу, которая запрашивает у пользователя стоимость одного товара и количество товаров, которое он хочет купить. Затем вычислите и выведите общую стоимость покупки.\n",
        "8. Конвертер валют:\n",
        "\n",
        "Напишите программу, которая запрашивает у пользователя сумму в долларах и конвертирует её в евро по текущему курсу (курс можно задать в программе как константу). Выведите результат конвертации.\n",
        "9. Проверка делимости чисел:\n",
        "\n",
        "Напишите программу, которая запрашивает у пользователя два числа и проверяет, делится ли первое число на второе без остатка. Программа должна выводить соответствующее сообщение о результате.\n",
        "10. Определение сезона по месяцу:\n",
        "\n",
        "Напишите программу, которая запрашивает у пользователя номер месяца (от 1 до 12) и выводит, к какому сезону этот месяц относится. Программа должна корректно обрабатывать неправильный ввод (например, если пользователь введет число за пределами диапазона).'''\n",
        "\n",
        "url = \"http://62.113.108.33/vebinar-v1/check_dz\"\n",
        "headers = {\"Content-Type\": \"application/json\",\n",
        "    \"Authorization\": '89e768ed-4bc1-4e12-9139-45023e2976a5'\n",
        "    }\n",
        "data = {\n",
        "    \"tema\": tema,\n",
        "    \"dz\": dz,\n",
        "    \"resheniye\": resheniye\n",
        "}\n",
        "\n",
        "response = requests.post(url, headers=headers, data=json.dumps(data))\n",
        "if response.status_code == 200:\n",
        "  print(json.loads(response.text)['choices'][0]['message']['content'])\n",
        "else:\n",
        "  print(\"Возникла ошибка:\", response.status_code)\n",
        "  print(response.text)"
      ],
      "metadata": {
        "cellView": "form",
        "id": "EreIxkxkZDQh",
        "colab": {
          "base_uri": "https://localhost:8080/"
        },
        "outputId": "a82e8c8b-22d0-4f4b-ba76-89f4d16fd33d"
      },
      "execution_count": null,
      "outputs": [
        {
          "output_type": "stream",
          "name": "stdout",
          "text": [
            "### Оценка решения студента\n",
            "\n",
            "#### **Задачи уровня lite:**\n",
            "\n",
            "1. **Простой калькулятор:**\n",
            "   ```python\n",
            "   num1 = input(\"Введите первое число: \")\n",
            "   num2 = input(\"Введите второе число: \")\n",
            "   result = num1 + num2\n",
            "   print(\"Результат сложения:\", result)\n",
            "   ```\n",
            "   **Ошибки:**\n",
            "   - `input` возвращает строку, поэтому сложение строк приведет к конкатенации, а не к арифметическому сложению.\n",
            "   \n",
            "   **Рекомендации:**\n",
            "   - Преобразуйте вводимые значения в числа с помощью `int` или `float`.\n",
            "   ```python\n",
            "   num1 = float(input(\"Введите первое число: \"))\n",
            "   num2 = float(input(\"Введите второе число: \"))\n",
            "   result = num1 + num2\n",
            "   print(\"Результат сложения:\", result)\n",
            "   ```\n",
            "\n",
            "2. **Проверка четности числа:**\n",
            "   ```python\n",
            "   number = input(\"Введите число: \")\n",
            "   if number % 2 == 0:\n",
            "       print(\"Число четное\")\n",
            "   else:\n",
            "       print(\"Число нечетное\")\n",
            "   ```\n",
            "   **Ошибки:**\n",
            "   - `input` возвращает строку, поэтому необходимо преобразовать вводимое значение в целое число.\n",
            "   \n",
            "   **Рекомендации:**\n",
            "   - Используйте `int` для преобразования строки в число.\n",
            "   ```python\n",
            "   number = int(input(\"Введите число: \"))\n",
            "   if number % 2 == 0:\n",
            "       print(\"Число четное\")\n",
            "   else:\n",
            "       print(\"Число нечетное\")\n",
            "   ```\n",
            "\n",
            "3. **Подсчет количества слов:**\n",
            "   ```python\n",
            "   sentence = input(\"Введите предложение: \")\n",
            "   words = sentence.split()\n",
            "   print(\"Количество слов в предложении:\", len(words))\n",
            "   ```\n",
            "   **Ошибок нет.**\n",
            "\n",
            "4. **Проверка на большее число:**\n",
            "   ```python\n",
            "   num1 = input(\"Введите первое число: \")\n",
            "   num2 = input(\"Введите второе число: \")\n",
            "   if num1 > num2:\n",
            "       print(\"Первое число больше\")\n",
            "   elif num1 < num2:\n",
            "       print(\"Второе число больше\")\n",
            "   else:\n",
            "       print(\"Числа равны\")\n",
            "   ```\n",
            "   **Ошибки:**\n",
            "   - `input` возвращает строку, поэтому необходимо преобразовать вводимые значения в числа.\n",
            "   \n",
            "   **Рекомендации:**\n",
            "   - Используйте `float` для преобразования строки в число.\n",
            "   ```python\n",
            "   num1 = float(input(\"Введите первое число: \"))\n",
            "   num2 = float(input(\"Введите второе число: \"))\n",
            "   if num1 > num2:\n",
            "       print(\"Первое число больше\")\n",
            "   elif num1 < num2:\n",
            "       print(\"Второе число больше\")\n",
            "   else:\n",
            "       print(\"Числа равны\")\n",
            "   ```\n",
            "\n",
            "5. **Сумма чисел до N:**\n",
            "   ```python\n",
            "   N = input(\"Введите число N: \")\n",
            "   sum = 0\n",
            "   for i in range(N):  # Ошибка: range() ожидает целое число, а не строку\n",
            "       sum += i\n",
            "   print(\"Сумма чисел до\", N, \":\", sum)\n",
            "   ```\n",
            "   **Ошибки:**\n",
            "   - `input` возвращает строку, поэтому необходимо преобразовать вводимое значение в целое число.\n",
            "   - В цикле `range(N)` нужно использовать `range(1, N+1)` для корректного подсчета суммы.\n",
            "   \n",
            "   **Рекомендации:**\n",
            "   - Используйте `int` для преобразования строки в число.\n",
            "   ```python\n",
            "   N = int(input(\"Введите число N: \"))\n",
            "   sum = 0\n",
            "   for i in range(1, N + 1):\n",
            "       sum += i\n",
            "   print(\"Сумма чисел до\", N, \":\", sum)\n",
            "   ```\n",
            "\n",
            "#### **Задачи уровня pro:**\n",
            "\n",
            "6. **Калькулятор времени:**\n",
            "   ```python\n",
            "   seconds = int(input(\"Введите количество секунд: \"))\n",
            "   hours = seconds // 3600\n",
            "   minutes = (seconds - hours * 3600) // 60\n",
            "   seconds = seconds % 60\n",
            "   print(f\"Время: {hours}:{minutes}:{seconds}\")\n",
            "   ```\n",
            "   **Ошибок нет.**\n",
            "\n",
            "7. **Расчет стоимости покупки:**\n",
            "   ```python\n",
            "   item_price = float(input(\"Введите стоимость товара: \"))\n",
            "   quantity = int(input(\"Введите количество товаров: \"))\n",
            "   total_cost = item_price * quantity\n",
            "   print(\"Общая стоимость покупки: \", total_cost)\n",
            "   ```\n",
            "   **Ошибок нет.**\n",
            "\n",
            "8. **Конвертер валют:**\n",
            "   ```python\n",
            "   usd_amount = float(input(\"Введите сумму в долларах: \"))\n",
            "   exchange_rate = 0.85\n",
            "   euro_amount = usd_amount * exchange_rate\n",
            "   print(\"Сумма в евро: \", euro_amount)\n",
            "   ```\n",
            "   **Ошибок нет.**\n",
            "\n",
            "9. **Проверка делимости чисел:**\n",
            "   ```python\n",
            "   num1 = int(input(\"Введите первое число: \"))\n",
            "   num2 = int(input(\"Введите второе число: \"))\n",
            "   if num1 % num2 == 1:\n",
            "       print(f\"{num1} делится на {num2} без остатка\")\n",
            "   else:\n",
            "       print(f\"{num1} не делится на {num2} без остатка\")\n",
            "   ```\n",
            "   **Ошибки:**\n",
            "   - Условие `if num1 % num2 == 1:` неверно, должно быть `if num1 % num2 == 0:`.\n",
            "   \n",
            "   **Рекомендации:**\n",
            "   - Исправьте условие проверки.\n",
            "   ```python\n",
            "   if num1 % num2 == 0:\n",
            "       print(f\"{num1} делится на {num2} без остатка\")\n",
            "   else:\n",
            "       print(f\"{num1} не делится на {num2} без остатка\")\n",
            "   ```\n",
            "\n",
            "10. **Определение сезона по месяцу:**\n",
            "   ```python\n",
            "   month = int(input(\"Введите номер месяца (от 1 до 12): \"))\n",
            "   if month == 12 or month <= 1:\n",
            "       print(\"Зима\")\n",
            "   elif month >= 3 and month <= 5:\n",
            "       print(\"Весна\")\n",
            "   elif month >= 6 and month <= 8:\n",
            "       print(\"Лето\")\n",
            "   elif month >= 9 and month <= 11:\n",
            "       print(\"Осень\")\n",
            "   else:\n",
            "       print(\"Ошибка: введите число от 1 до 12\")\n",
            "   ```\n",
            "   **Ошибки:**\n",
            "   - Условие `if month == 12 or month <= 1:` неверно, должно быть `if month == 12 or month <= 2:`.\n",
            "   \n",
            "   **Рекомендации:**\n",
            "   - Исправьте условие проверки.\n",
            "   ```python\n",
            "   if month == 12 or month <= 2:\n",
            "       print(\"Зима\")\n",
            "   elif month >= 3 and month <= 5:\n",
            "       print(\"Весна\")\n",
            "   elif month >= 6 and month <= 8:\n",
            "       print(\"Лето\")\n",
            "   elif month >= 9 and month <= 11:\n",
            "       print(\"Осень\")\n",
            "   else:\n",
            "       print(\"Ошибка: введите число от 1 до 12\")\n",
            "   ```\n",
            "\n",
            "### Заключение\n",
            "\n",
            "Студент продемонстрировал базовые знания Python, но допустил несколько ошибок, связанных с типами данных и логикой условий. Важно обратить внимание на преобразование типов данных при вводе значений и корректное использование условий.\n",
            "\n",
            "### Оценка: 6/10\n",
            "\n",
            "**Рекомендации:**\n",
            "- Внимательно проверяйте типы данных, возвращаемые функцией `input`.\n",
            "- Тестируйте свои программы на различных входных данных, чтобы убедиться в их корректности.\n",
            "- Обратите внимание на логику условий и корректность их написания.\n"
          ]
        }
      ]
    }
  ]
}